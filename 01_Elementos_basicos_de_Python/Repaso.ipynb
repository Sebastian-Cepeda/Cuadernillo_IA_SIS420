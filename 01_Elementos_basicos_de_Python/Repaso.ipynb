{
 "cells": [
  {
   "attachments": {},
   "cell_type": "markdown",
   "metadata": {},
   "source": [
    "# Variables"
   ]
  },
  {
   "cell_type": "code",
   "execution_count": 1,
   "metadata": {},
   "outputs": [
    {
     "name": "stdout",
     "output_type": "stream",
     "text": [
      "Hola, vars\n",
      "Nicolas\n",
      "12\n",
      "aqui cambio Santiago\n",
      "usando input Seb\n"
     ]
    }
   ],
   "source": [
    "print(\"Hola, vars\")\n",
    "\n",
    "# esto es una variable\n",
    "my_name = \"Nicolas\"\n",
    "print(my_name)\n",
    "\n",
    "# esto es variable con un numero\n",
    "my_age = 12\n",
    "print(my_age)\n",
    "\n",
    "my_name = \"Santiago\"\n",
    "print(\"aqui cambio\", my_name)\n",
    "\n",
    "# input\n",
    "\n",
    "my_name = input(\"¿Cuál es tu nombre?\")\n",
    "print(\"usando input\", my_name)"
   ]
  },
  {
   "attachments": {},
   "cell_type": "markdown",
   "metadata": {},
   "source": [
    "# Tipos de datos"
   ]
  },
  {
   "cell_type": "code",
   "execution_count": 2,
   "metadata": {},
   "outputs": [
    {
     "name": "stdout",
     "output_type": "stream",
     "text": [
      "my_name => 12\n",
      "<class 'str'>\n",
      "my_age => 12\n",
      "<class 'int'>\n",
      "is_single => False\n",
      "<class 'bool'>\n",
      "my_age => Juan\n",
      "<class 'str'>\n"
     ]
    }
   ],
   "source": [
    "# string\n",
    "my_name = \"Nicolas\"\n",
    "my_name = 'Santiago'\n",
    "my_name = \"12\"\n",
    "print('my_name =>', my_name)\n",
    "print(type(my_name))\n",
    "\n",
    "# int\n",
    "my_age = 12\n",
    "print('my_age =>', my_age)\n",
    "print(type(my_age))\n",
    "\n",
    "# boolean\n",
    "is_single = False\n",
    "print('is_single =>', is_single)\n",
    "print(type(is_single))\n",
    "\n",
    "# inputs\n",
    "my_age = input('¿Cuál es tu edad? ')\n",
    "print('my_age =>', my_age)\n",
    "print(type(my_age))"
   ]
  },
  {
   "attachments": {},
   "cell_type": "markdown",
   "metadata": {},
   "source": [
    "# Cadenas"
   ]
  },
  {
   "cell_type": "code",
   "execution_count": 3,
   "metadata": {},
   "outputs": [
    {
     "name": "stdout",
     "output_type": "stream",
     "text": [
      "Nicolas\n",
      "Molina Monroy\n",
      "Nicolas Molina Monroy\n",
      "I'm Nicolas\n",
      " She said \"Hello\"  \n",
      "v1  Hola, mi nombre es Nicolas y mi apellido es Molina Monroy\n",
      "v2 Hola, mi nombre es Nicolas y mi apellido es Molina Monroy\n",
      "v3 Hola, mi nombre es Nicolas y mi apellido es Molina Monroy\n"
     ]
    }
   ],
   "source": [
    "name = \"Nicolas\"\n",
    "last_name = 'Molina Monroy'\n",
    "print(name)\n",
    "print(last_name)\n",
    "\n",
    "full_name = name + \" \" + last_name\n",
    "print(full_name)\n",
    "\n",
    "quote = \"I'm Nicolas\"\n",
    "print(quote)\n",
    "\n",
    "quote2 = ' She said \"Hello\"  '\n",
    "print(quote2)\n",
    "\n",
    "# format\n",
    "template = \"Hola, mi nombre es \" + name + \" y mi apellido es \" + last_name\n",
    "print('v1 ', template)\n",
    "\n",
    "template = \"Hola, mi nombre es {} y mi apellido es {}\".format(name, last_name)\n",
    "\n",
    "print('v2', template)\n",
    "\n",
    "template = f\"Hola, mi nombre es {name} y mi apellido es {last_name}\"\n",
    "print('v3', template)\n"
   ]
  },
  {
   "attachments": {},
   "cell_type": "markdown",
   "metadata": {},
   "source": [
    "# Números"
   ]
  },
  {
   "cell_type": "code",
   "execution_count": 4,
   "metadata": {},
   "outputs": [
    {
     "name": "stdout",
     "output_type": "stream",
     "text": [
      "<class 'int'>\n",
      "<class 'float'>\n",
      "2\n",
      "1\n",
      "27\n",
      "26\n",
      "25\n",
      "20\n",
      "25\n",
      "4.5e+18\n",
      "1e-16\n"
     ]
    }
   ],
   "source": [
    "lives = 3\n",
    "print(type(lives))\n",
    "age = 12\n",
    "budget = 100\n",
    "\n",
    "temperature = 12.12\n",
    "print(type(temperature))\n",
    "\n",
    "lives = 2\n",
    "print(lives)\n",
    "lives = 1\n",
    "print(lives)\n",
    "\n",
    "lives = 12 + 15\n",
    "print(lives)\n",
    "\n",
    "lives = lives - 1\n",
    "print(lives)\n",
    "\n",
    "lives -= 1\n",
    "print(lives)\n",
    "\n",
    "lives -= 5\n",
    "print(lives)\n",
    "\n",
    "lives += 5\n",
    "print(lives)\n",
    "\n",
    "number = 4500000000000000000.1\n",
    "print(number)\n",
    "\n",
    "number_b = 0.0000000000000001\n",
    "print(number_b)"
   ]
  },
  {
   "attachments": {},
   "cell_type": "markdown",
   "metadata": {},
   "source": [
    "# Booleans"
   ]
  },
  {
   "cell_type": "code",
   "execution_count": 5,
   "metadata": {},
   "outputs": [
    {
     "name": "stdout",
     "output_type": "stream",
     "text": [
      "<class 'bool'>\n",
      "False\n",
      "False\n",
      "True\n",
      "True\n"
     ]
    }
   ],
   "source": [
    "is_single = True\n",
    "print(type(is_single))\n",
    "is_single = False\n",
    "print(is_single)\n",
    "\n",
    "print(not True)\n",
    "print(not False)\n",
    "\n",
    "is_single = not is_single\n",
    "print(is_single)"
   ]
  },
  {
   "attachments": {},
   "cell_type": "markdown",
   "metadata": {},
   "source": [
    "# Tranformaciones"
   ]
  },
  {
   "cell_type": "code",
   "execution_count": 6,
   "metadata": {},
   "outputs": [
    {
     "name": "stdout",
     "output_type": "stream",
     "text": [
      "<class 'str'>\n",
      "<class 'int'>\n",
      "<class 'bool'>\n",
      "Nicolas Molina\n",
      "30\n",
      "Nicolas12\n",
      "Mi edad es 12\n",
      "Mi edad es 12\n",
      "<class 'str'>\n",
      "Tu edad en 10 años será 22\n"
     ]
    }
   ],
   "source": [
    "name = \"Nicolas\"\n",
    "print(type(name))\n",
    "name = 12\n",
    "print(type(name))\n",
    "name = True\n",
    "print(type(name))\n",
    "\n",
    "print(\"Nicolas\" + \" Molina\")\n",
    "print(10 + 20)\n",
    "print(\"Nicolas\" + \"12\")\n",
    "\n",
    "age = 12\n",
    "print(\"Mi edad es \" + str(age))\n",
    "print(f\"Mi edad es {age}\")\n",
    "\n",
    "age = input('Escribe tu edad => ')\n",
    "print(type(age))\n",
    "age = int(age)\n",
    "age += 10\n",
    "print(f'Tu edad en 10 años será {age}')"
   ]
  },
  {
   "attachments": {},
   "cell_type": "markdown",
   "metadata": {},
   "source": [
    "# Operadores Aritmeticos"
   ]
  },
  {
   "cell_type": "code",
   "execution_count": 7,
   "metadata": {},
   "outputs": [
    {
     "name": "stdout",
     "output_type": "stream",
     "text": [
      "20\n",
      "5\n",
      "20\n",
      "5.0\n",
      "0\n",
      "3.3333333333333335\n",
      "1\n",
      "3\n",
      "8\n",
      "10.0\n",
      "8\n",
      "1.0\n",
      "10\n"
     ]
    },
    {
     "ename": "ZeroDivisionError",
     "evalue": "division by zero",
     "output_type": "error",
     "traceback": [
      "\u001b[1;31m---------------------------------------------------------------------------\u001b[0m",
      "\u001b[1;31mZeroDivisionError\u001b[0m                         Traceback (most recent call last)",
      "\u001b[1;32mf:\\Inteligencia Artificial\\Cuadernillo_IA_SIS420\\01_Elementos_basicos_de_Python\\Repaso.ipynb Cell 14\u001b[0m in \u001b[0;36m<cell line: 15>\u001b[1;34m()\u001b[0m\n\u001b[0;32m     <a href='vscode-notebook-cell:/f%3A/Inteligencia%20Artificial/Cuadernillo_IA_SIS420/01_Elementos_basicos_de_Python/Repaso.ipynb#X20sZmlsZQ%3D%3D?line=11'>12</a>\u001b[0m \u001b[39mprint\u001b[39m((\u001b[39m7\u001b[39m \u001b[39m/\u001b[39m \u001b[39m1\u001b[39m) \u001b[39m/\u001b[39m\u001b[39m/\u001b[39m \u001b[39m4\u001b[39m)\n\u001b[0;32m     <a href='vscode-notebook-cell:/f%3A/Inteligencia%20Artificial/Cuadernillo_IA_SIS420/01_Elementos_basicos_de_Python/Repaso.ipynb#X20sZmlsZQ%3D%3D?line=13'>14</a>\u001b[0m \u001b[39mprint\u001b[39m(\u001b[39m8\u001b[39m \u001b[39m+\u001b[39m \u001b[39m3\u001b[39m \u001b[39m-\u001b[39m \u001b[39m1\u001b[39m)\n\u001b[1;32m---> <a href='vscode-notebook-cell:/f%3A/Inteligencia%20Artificial/Cuadernillo_IA_SIS420/01_Elementos_basicos_de_Python/Repaso.ipynb#X20sZmlsZQ%3D%3D?line=14'>15</a>\u001b[0m \u001b[39mprint\u001b[39m(\u001b[39m10\u001b[39;49m \u001b[39m/\u001b[39;49m \u001b[39m0\u001b[39;49m)\n\u001b[0;32m     <a href='vscode-notebook-cell:/f%3A/Inteligencia%20Artificial/Cuadernillo_IA_SIS420/01_Elementos_basicos_de_Python/Repaso.ipynb#X20sZmlsZQ%3D%3D?line=16'>17</a>\u001b[0m \u001b[39mprint\u001b[39m(\u001b[39m'\u001b[39m\u001b[39mHola\u001b[39m\u001b[39m'\u001b[39m \u001b[39m+\u001b[39m \u001b[39m'\u001b[39m\u001b[39m mundo\u001b[39m\u001b[39m'\u001b[39m)\n\u001b[0;32m     <a href='vscode-notebook-cell:/f%3A/Inteligencia%20Artificial/Cuadernillo_IA_SIS420/01_Elementos_basicos_de_Python/Repaso.ipynb#X20sZmlsZQ%3D%3D?line=17'>18</a>\u001b[0m \u001b[39mprint\u001b[39m(\u001b[39m'\u001b[39m\u001b[39mHola\u001b[39m\u001b[39m'\u001b[39m \u001b[39m*\u001b[39m \u001b[39m3\u001b[39m)\n",
      "\u001b[1;31mZeroDivisionError\u001b[0m: division by zero"
     ]
    }
   ],
   "source": [
    "print(10 + 10)\n",
    "print(10 - 5)\n",
    "print(10 * 2)\n",
    "print(10 / 2) # 5\n",
    "print(10 % 2) # 0\n",
    "print(10 / 3)\n",
    "print(10 % 3)\n",
    "print(10 // 3)\n",
    "print(2 ** 3)\n",
    "print(2 ** 3 + 3 - 7 / 1 // 4)\n",
    "print(2 ** 3)\n",
    "print((7 / 1) // 4)\n",
    "\n",
    "print(8 + 3 - 1)\n",
    "print(10 / 0)\n",
    "\n",
    "print('Hola' + ' mundo')\n",
    "print('Hola' * 3)"
   ]
  },
  {
   "attachments": {},
   "cell_type": "markdown",
   "metadata": {},
   "source": [
    "# Operadores de Comparacion"
   ]
  },
  {
   "cell_type": "code",
   "execution_count": 8,
   "metadata": {},
   "outputs": [
    {
     "name": "stdout",
     "output_type": "stream",
     "text": [
      "True\n",
      "False\n",
      "False\n",
      "True\n",
      "False\n",
      "False\n",
      "True\n",
      "False\n",
      "True\n",
      "True\n",
      "False\n",
      "True\n",
      "True\n",
      "False\n",
      "True\n",
      "False\n",
      "True\n",
      "False\n",
      "False\n",
      "False\n"
     ]
    }
   ],
   "source": [
    "# > \n",
    "print(7 > 3)\n",
    "print(3 > 7)\n",
    "print(7 > 7)\n",
    "\n",
    "# <\n",
    "print(5 < 6)\n",
    "print(6 < 5)\n",
    "print(5 < 5)\n",
    "\n",
    "# >=\n",
    "print(2 >= 1)\n",
    "print(2 >= 3)\n",
    "print(2 >= 2)\n",
    "\n",
    "# <=\n",
    "print(1 <= 2)\n",
    "print(2 <= 1)\n",
    "print(2 <= 2)\n",
    "\n",
    "# ==\n",
    "\n",
    "print(6 == 6)\n",
    "print(5 == 2)\n",
    "\n",
    "# !=\n",
    "\n",
    "print(6 != 10)\n",
    "print(6 != 6)\n",
    "\n",
    "print(\"Apple\" == 'Apple')\n",
    "print(\"Apple\" == 'apple')\n",
    "print(\"1\" == 1)\n",
    "\n",
    "age = 15\n",
    "print(age >= 18)"
   ]
  },
  {
   "attachments": {},
   "cell_type": "markdown",
   "metadata": {},
   "source": [
    "# Float"
   ]
  },
  {
   "cell_type": "code",
   "execution_count": 9,
   "metadata": {},
   "outputs": [
    {
     "name": "stdout",
     "output_type": "stream",
     "text": [
      "3.3\n",
      "3.3000000000000003\n",
      "False\n",
      "str => 3.3\n",
      "True\n",
      "**********\n",
      "3.3000000000000003 3.3\n",
      "True\n"
     ]
    }
   ],
   "source": [
    "x = 3.3\n",
    "print(x)\n",
    "y = 1.1 + 2.2\n",
    "print(y)\n",
    "print(x == y)\n",
    "\n",
    "y_str = format(y, \".2g\")\n",
    "print('str =>', y_str)\n",
    "print(y_str == str(x))\n",
    "\n",
    "print('*' * 10)\n",
    "\n",
    "print(y, x)\n",
    "\n",
    "tolerance = 0.00001\n",
    "print(abs(x - y) < tolerance)"
   ]
  },
  {
   "attachments": {},
   "cell_type": "markdown",
   "metadata": {},
   "source": [
    "# Operadores Lógcos"
   ]
  },
  {
   "cell_type": "code",
   "execution_count": 13,
   "metadata": {},
   "outputs": [
    {
     "name": "stdout",
     "output_type": "stream",
     "text": [
      "AND\n",
      "True and True => True\n",
      "True and False => False\n",
      "False and True => False\n",
      "False and False => False\n",
      "True\n",
      "False\n",
      "True\n",
      "OR\n",
      "True or True => True\n",
      "True or False => True\n",
      "False or True => True\n",
      "False or False => False\n",
      "True\n"
     ]
    }
   ],
   "source": [
    "# and\n",
    "print('AND')\n",
    "print('True and True =>', True and True)\n",
    "print('True and False =>', True and False)\n",
    "print('False and True =>', False and True)\n",
    "print('False and False =>', False and False)\n",
    "\n",
    "print(10 > 5 and 5 < 10)\n",
    "print(10 > 5 and 5 > 10)\n",
    "\n",
    "stock = input('Ingrese el numero de stock => ')\n",
    "stock = int(stock)\n",
    "\n",
    "print(stock >= 100 and stock <= 1000)\n",
    "\n",
    "print('OR')\n",
    "print('True or True =>', True or True)\n",
    "print('True or False =>', True or False)\n",
    "print('False or True =>', False or True)\n",
    "print('False or False =>', False or False)\n",
    "\n",
    "role = input('Digita el rol => ')\n",
    "\n",
    "print(role == 'admin' or role == 'seller')\n",
    "\n"
   ]
  },
  {
   "attachments": {},
   "cell_type": "markdown",
   "metadata": {},
   "source": [
    "# Operador NOT"
   ]
  },
  {
   "cell_type": "code",
   "execution_count": 14,
   "metadata": {},
   "outputs": [
    {
     "name": "stdout",
     "output_type": "stream",
     "text": [
      "False\n",
      "True\n",
      "NOT AND\n",
      "not True and True => False\n",
      "not True and False => True\n",
      "not False and True => True\n",
      "not False and False => True\n",
      "False\n"
     ]
    }
   ],
   "source": [
    "print(not True)\n",
    "print(not False)\n",
    "\n",
    "# and\n",
    "print('NOT AND')\n",
    "print('not True and True =>', not (True and True))\n",
    "print('not True and False =>', not (True and False))\n",
    "print('not False and True =>', not (False and True))\n",
    "print('not False and False =>', not (False and False))\n",
    "\n",
    "stock = input('Ingrese el numero de stock => ')\n",
    "stock = int(stock)\n",
    "\n",
    "print(not (stock >= 100 and stock <= 1000))"
   ]
  },
  {
   "attachments": {},
   "cell_type": "markdown",
   "metadata": {},
   "source": [
    "# Condicionales IF/ELSE"
   ]
  },
  {
   "cell_type": "code",
   "execution_count": 15,
   "metadata": {},
   "outputs": [
    {
     "name": "stdout",
     "output_type": "stream",
     "text": [
      "debería ejecutarse\n",
      "Es par\n"
     ]
    }
   ],
   "source": [
    "if True:\n",
    "  print('debería ejecutarse')\n",
    "\n",
    "if False:\n",
    "  print('nunca se ejecuta')\n",
    "\n",
    "'''\n",
    "pet = input('¿Cuál es tu mascota favorita? ')\n",
    "\n",
    "if pet == 'perro':\n",
    "  print('genial tienes buen gusto')\n",
    "elif pet == 'gato':\n",
    "  print('espero tengas suerte')\n",
    "elif pet == 'pez':\n",
    "  print('eres lo maximo')\n",
    "else:\n",
    "  print('no tienes ninguna mascota interesante')\n",
    "\n",
    "\n",
    "stock = int(input('Digita el stock => '))\n",
    "\n",
    "if stock >= 100 and stock <= 1000:\n",
    "  print('el stock es correcto')\n",
    "else:\n",
    "  print('el stock es incorrecto')\n",
    "\n",
    "'''\n",
    "\n",
    "number = int(input('Ingrese un numero => '))\n",
    "result = number % 2\n",
    "if (result == 0):\n",
    "\tprint('Es par')\n",
    "else:\n",
    "\tprint('Es impar')"
   ]
  },
  {
   "attachments": {},
   "cell_type": "markdown",
   "metadata": {},
   "source": [
    "# Funciones de Cadenas"
   ]
  },
  {
   "cell_type": "code",
   "execution_count": 16,
   "metadata": {},
   "outputs": [
    {
     "name": "stdout",
     "output_type": "stream",
     "text": [
      "29\n",
      "Ella sabe programar en Python\n",
      "ELLA SABE PROGRAMAR EN PYTHON\n",
      "ella sabe programar en python\n",
      "4\n",
      "eLLA SABE PROGRAMAR EN pYTHON\n",
      "True\n",
      "False\n",
      "Ella sabe programar en Go\n",
      "este es un titulo\n",
      "Este es un titulo\n",
      "Este Es Un Titulo\n",
      "False\n",
      "True\n"
     ]
    }
   ],
   "source": [
    "text = 'Ella sabe programar en Python'\n",
    "\n",
    "size = len(text)\n",
    "print(size)\n",
    "\n",
    "print(text)\n",
    "print(text.upper())\n",
    "print(text.lower())\n",
    "print(text.count('a'))\n",
    "\n",
    "print(text.swapcase())\n",
    "print(text.startswith('Ella'))\n",
    "print(text.endswith('Rust'))\n",
    "print(text.replace('Python', 'Go'))\n",
    "\n",
    "text_2 = 'este es un titulo'\n",
    "print(text_2)\n",
    "print(text_2.capitalize())\n",
    "print(text_2.title())\n",
    "print(text_2.isdigit())\n",
    "print(\"398\".isdigit())"
   ]
  },
  {
   "attachments": {},
   "cell_type": "markdown",
   "metadata": {},
   "source": [
    "# Posiciones y sub textos de las cadenas"
   ]
  },
  {
   "cell_type": "code",
   "execution_count": 17,
   "metadata": {},
   "outputs": [
    {
     "name": "stdout",
     "output_type": "stream",
     "text": [
      "E\n",
      "l\n",
      "size =>  16\n",
      "n\n",
      "n\n",
      "Ella \n",
      "Python\n",
      "Ella sabe \n",
      "sabe Pytho\n",
      "sabe Python\n",
      "Ella sabe Python\n",
      "Python\n",
      "Pto\n",
      "El aePto\n"
     ]
    }
   ],
   "source": [
    "text = \"Ella sabe Python\"\n",
    "print(text[0])\n",
    "print(text[1])\n",
    "# print(text[999])\n",
    "size = len(text)\n",
    "print('size => ',size)\n",
    "print(text[size - 1])\n",
    "print(text[-1])\n",
    "\n",
    "# slicing\n",
    "\n",
    "print(text[0:5])\n",
    "print(text[10:16])\n",
    "print(text[:10])\n",
    "print(text[5:-1])\n",
    "print(text[5:])#Desde la posicon 6 hasta la ultima posicion\n",
    "print(text[:])#Toda la cadena de caracteres\n",
    "print(text[10:16:1])#Desde la posicon 11 hasta la posicion 16 - 1\n",
    "print(text[10:16:2])#aquie es donde ocurre un cambio que hace 2 saltos de caracteres\n",
    "print(text[::2])"
   ]
  },
  {
   "attachments": {},
   "cell_type": "markdown",
   "metadata": {},
   "source": [
    "# Listas"
   ]
  },
  {
   "cell_type": "code",
   "execution_count": 18,
   "metadata": {},
   "outputs": [
    {
     "name": "stdout",
     "output_type": "stream",
     "text": [
      "[1, 2, 3, 4]\n",
      "<class 'list'>\n",
      "['make a dishes', 'play videogames']\n",
      "[1, True, 'hola']\n",
      "1\n",
      "make a dishes\n",
      "['watch platzi courses', 'play videogames']\n",
      "['do the dishes', 'play videogames']\n",
      "[1, 2, 3]\n",
      "True\n",
      "True\n"
     ]
    }
   ],
   "source": [
    "numbers = [1, 2, 3, 4]\n",
    "print(numbers)\n",
    "print(type(numbers))\n",
    "\n",
    "tasks = ['make a dishes', 'play videogames']\n",
    "print(tasks)\n",
    "\n",
    "types = [1, True, 'hola']\n",
    "print(types)\n",
    "\n",
    "print(numbers[0])\n",
    "print(tasks[0])\n",
    "text = 'Hola'\n",
    "# text[0] = 'W'\n",
    "\n",
    "tasks[0] = 'watch platzi courses'\n",
    "print(tasks)\n",
    "\n",
    "tasks[0] = 'do the dishes'\n",
    "print(tasks)\n",
    "\n",
    "print(numbers[:3])\n",
    "print(True in types)\n",
    "print('hola' in types)"
   ]
  },
  {
   "attachments": {},
   "cell_type": "markdown",
   "metadata": {},
   "source": [
    "# Tuplas"
   ]
  },
  {
   "cell_type": "code",
   "execution_count": 19,
   "metadata": {},
   "outputs": [
    {
     "name": "stdout",
     "output_type": "stream",
     "text": [
      "(1, 2, 3, 5)\n",
      "0 => 1\n",
      "-1 => 5\n",
      "<class 'tuple'>\n",
      "('nico', 'zule', 'santi', 'nico')\n",
      "<class 'tuple'>\n",
      "(1, 2, 3, 5)\n",
      "('nico', 'zule', 'santi', 'nico')\n",
      "1\n",
      "2\n",
      "['nico', 'zule', 'santi', 'nico']\n",
      "<class 'list'>\n",
      "['nico', 'juli', 'santi', 'nico']\n",
      "('nico', 'juli', 'santi', 'nico')\n"
     ]
    }
   ],
   "source": [
    "numbers = (1, 2, 3, 5)\n",
    "strings = ('nico', 'zule', 'santi', 'nico')\n",
    "print(numbers)\n",
    "print('0 =>', numbers[0])\n",
    "print('-1 =>', numbers[-1])\n",
    "print(type(numbers))\n",
    "\n",
    "print(strings)\n",
    "print(type(strings))\n",
    "\n",
    "# CRUD\n",
    "# numbers.append(10)\n",
    "print(numbers)\n",
    "# numbers[1] = 'change'\n",
    "\n",
    "print(strings)\n",
    "print(strings.index('zule'))\n",
    "print(strings.count('nico'))\n",
    "\n",
    "my_list = list(strings)\n",
    "print(my_list)\n",
    "print(type(my_list))\n",
    "\n",
    "my_list[1] = 'juli'\n",
    "print(my_list)\n",
    "\n",
    "my_tuple = tuple(my_list)\n",
    "print(my_tuple)"
   ]
  },
  {
   "attachments": {},
   "cell_type": "markdown",
   "metadata": {},
   "source": [
    "# Diccionarios"
   ]
  },
  {
   "cell_type": "code",
   "execution_count": 21,
   "metadata": {},
   "outputs": [
    {
     "name": "stdout",
     "output_type": "stream",
     "text": [
      "<class 'dict'>\n",
      "{'avion': 'bla bla bla', 'name': 'Nicolas', 'last_name': 'Molina Monroy', 'age': 87}\n",
      "4\n",
      "87\n",
      "Molina Monroy\n",
      "87\n",
      "True\n",
      "False\n",
      "{'name': 'nico', 'last_name': 'molina', 'langs': ['python', 'javascript'], 'age': 99}\n",
      "{'name': 'santi', 'last_name': 'molina', 'langs': ['python', 'javascript', 'rust'], 'age': 49}\n",
      "{'name': 'santi', 'langs': ['python', 'javascript', 'rust']}\n",
      "items\n",
      "dict_items([('name', 'santi'), ('langs', ['python', 'javascript', 'rust'])])\n",
      "keys\n",
      "dict_keys(['name', 'langs'])\n",
      "values\n",
      "dict_values(['santi', ['python', 'javascript', 'rust']])\n"
     ]
    }
   ],
   "source": [
    "my_dict = {}\n",
    "print(type(my_dict))\n",
    "\n",
    "my_dict = {\n",
    "  'avion': \"bla bla bla\",\n",
    "  'name': 'Nicolas',\n",
    "  'last_name': 'Molina Monroy',\n",
    "  'age': 87\n",
    "}\n",
    "\n",
    "print(my_dict)\n",
    "print(len(my_dict))\n",
    "\n",
    "print(my_dict['age'])\n",
    "print(my_dict['last_name'])\n",
    "print(my_dict.get('age'))\n",
    "\n",
    "print('avion' in my_dict)\n",
    "print('otroqueno' in my_dict)\n",
    "\n",
    "person = {\n",
    "  'name': 'nico',\n",
    "  'last_name': 'molina',\n",
    "  'langs': ['python', 'javascript'],\n",
    "  'age': 99\n",
    "}\n",
    "\n",
    "print(person)\n",
    "\n",
    "person['name'] = 'santi'\n",
    "person['age'] -= 50\n",
    "person['langs'].append('rust')\n",
    "print(person)\n",
    "\n",
    "del person['last_name']\n",
    "person.pop('age')\n",
    "\n",
    "print(person)\n",
    "\n",
    "print('items')\n",
    "print(person.items())\n",
    "\n",
    "print('keys')\n",
    "print(person.keys())\n",
    "\n",
    "print('values')\n",
    "print(person.values())\n"
   ]
  },
  {
   "attachments": {},
   "cell_type": "markdown",
   "metadata": {},
   "source": [
    "# Funcion While"
   ]
  },
  {
   "cell_type": "code",
   "execution_count": 22,
   "metadata": {},
   "outputs": [
    {
     "name": "stdout",
     "output_type": "stream",
     "text": [
      "15\n",
      "16\n",
      "17\n",
      "18\n",
      "19\n",
      "20\n"
     ]
    }
   ],
   "source": [
    "'''\n",
    "while True:\n",
    "  print('se ejecuto')\n",
    "\n",
    "\n",
    "counter = 0\n",
    "\n",
    "while counter < 10:\n",
    "  counter += 1\n",
    "  print(counter)\n",
    "\n",
    "\n",
    "counter = 0\n",
    "\n",
    "while counter < 20:\n",
    "  counter += 1\n",
    "  if counter == 15:\n",
    "    break\n",
    "  print(counter)\n",
    "'''\n",
    "\n",
    "counter = 0\n",
    "\n",
    "while counter < 20:\n",
    "  counter += 1\n",
    "  if counter < 15:\n",
    "    continue\n",
    "  print(counter)"
   ]
  },
  {
   "attachments": {},
   "cell_type": "markdown",
   "metadata": {},
   "source": [
    "# Bucle FOR"
   ]
  },
  {
   "cell_type": "code",
   "execution_count": 23,
   "metadata": {},
   "outputs": [
    {
     "name": "stdout",
     "output_type": "stream",
     "text": [
      "23\n",
      "45\n",
      "67\n",
      "89\n",
      "43\n",
      "nico\n",
      "juli\n",
      "santi\n",
      "name => Camisa\n",
      "price => 100\n",
      "stock => 89\n",
      "name => Camisa\n",
      "price => 100\n",
      "stock => 89\n",
      "name => nico\n",
      "name => zule\n",
      "name => santi\n"
     ]
    }
   ],
   "source": [
    "'''\n",
    "for element in range(1, 21):\n",
    "  print(element)\n",
    "\n",
    "'''\n",
    "\n",
    "my_list = [23, 45, 67, 89 ,43]\n",
    "for element in my_list:\n",
    "  print(element)\n",
    "\n",
    "my_tuple = ('nico', 'juli', 'santi')\n",
    "for element in my_tuple:\n",
    "  print(element)\n",
    "\n",
    "\n",
    "product = {\n",
    "  'name': 'Camisa',\n",
    "  'price': 100,\n",
    "  'stock': 89\n",
    "}\n",
    "\n",
    "for key in product:\n",
    "  print(key, '=>', product[key])\n",
    "\n",
    "for key, value in product.items():\n",
    "  print(key, '=>', value)\n",
    "\n",
    "people = [\n",
    "  {\n",
    "    'name': 'nico',\n",
    "    'age': 34\n",
    "  },\n",
    "  {\n",
    "    'name': 'zule',\n",
    "    'age': 45\n",
    "  },\n",
    "  {\n",
    "    'name': 'santi',\n",
    "    'age': 4\n",
    "  }\n",
    "]\n",
    "\n",
    "for person in people:\n",
    "  print('name =>', person['name'])"
   ]
  },
  {
   "cell_type": "code",
   "execution_count": null,
   "metadata": {},
   "outputs": [],
   "source": []
  }
 ],
 "metadata": {
  "kernelspec": {
   "display_name": "Python 3",
   "language": "python",
   "name": "python3"
  },
  "language_info": {
   "codemirror_mode": {
    "name": "ipython",
    "version": 3
   },
   "file_extension": ".py",
   "mimetype": "text/x-python",
   "name": "python",
   "nbconvert_exporter": "python",
   "pygments_lexer": "ipython3",
   "version": "3.10.4"
  },
  "orig_nbformat": 4,
  "vscode": {
   "interpreter": {
    "hash": "f2ccb58c476f33ba3e3aee7ac07234ef6b8217ef24ad64d2a7d4fed1a57c1cd2"
   }
  }
 },
 "nbformat": 4,
 "nbformat_minor": 2
}
