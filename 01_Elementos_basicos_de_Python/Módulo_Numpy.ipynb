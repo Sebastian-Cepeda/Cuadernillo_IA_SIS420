{
 "cells": [
  {
   "cell_type": "markdown",
   "id": "005af9c4",
   "metadata": {},
   "source": [
    "# NumPy"
   ]
  },
  {
   "cell_type": "markdown",
   "id": "1a8b452a",
   "metadata": {},
   "source": [
    "- Es una extensión de python para trabajar con vectores y matrices\n",
    "- Es una librería de algebra lineal muy rápida\n",
    "- Es bastante recomendable instalar Python con distribucion Anaconda o en su defecto utilizar colab\n",
    "- Si tienes instalado la distribución Anaconda, ya por si sola tendria los datos necesarios para usar la libria numpy\n",
    "- En caso de no tener instalado anaconda ejecutar en la terminal: pip install numpy\n"
   ]
  },
  {
   "cell_type": "markdown",
   "id": "5e8c12e3",
   "metadata": {},
   "source": [
    "## Nunpy arrays"
   ]
  },
  {
   "cell_type": "code",
   "execution_count": 1,
   "id": "b6ee8289",
   "metadata": {},
   "outputs": [],
   "source": [
    "import numpy as np"
   ]
  },
  {
   "cell_type": "code",
   "execution_count": 2,
   "id": "eaab6e7f",
   "metadata": {},
   "outputs": [],
   "source": [
    "lista = [1,2,3,4]"
   ]
  },
  {
   "cell_type": "code",
   "execution_count": 3,
   "id": "486eaac0",
   "metadata": {},
   "outputs": [],
   "source": [
    "array = np.array(lista)"
   ]
  },
  {
   "cell_type": "code",
   "execution_count": 4,
   "id": "089fe3e5",
   "metadata": {},
   "outputs": [
    {
     "data": {
      "text/plain": [
       "array([1, 2, 3, 4])"
      ]
     },
     "execution_count": 4,
     "metadata": {},
     "output_type": "execute_result"
    }
   ],
   "source": [
    "array"
   ]
  },
  {
   "cell_type": "code",
   "execution_count": 5,
   "id": "dbfcc713",
   "metadata": {},
   "outputs": [],
   "source": [
    "lista2 = [[1,2,3],[4,5,6],[7,8,9]]"
   ]
  },
  {
   "cell_type": "code",
   "execution_count": 6,
   "id": "96488bd9",
   "metadata": {},
   "outputs": [
    {
     "data": {
      "text/plain": [
       "[[1, 2, 3], [4, 5, 6], [7, 8, 9]]"
      ]
     },
     "execution_count": 6,
     "metadata": {},
     "output_type": "execute_result"
    }
   ],
   "source": [
    "lista2"
   ]
  },
  {
   "cell_type": "code",
   "execution_count": 7,
   "id": "dd8e4068",
   "metadata": {},
   "outputs": [],
   "source": [
    "array2 = np.array(lista2)"
   ]
  },
  {
   "cell_type": "code",
   "execution_count": 8,
   "id": "f9e10a48",
   "metadata": {},
   "outputs": [
    {
     "data": {
      "text/plain": [
       "array([[1, 2, 3],\n",
       "       [4, 5, 6],\n",
       "       [7, 8, 9]])"
      ]
     },
     "execution_count": 8,
     "metadata": {},
     "output_type": "execute_result"
    }
   ],
   "source": [
    "#Creando arrays\n",
    "array2"
   ]
  },
  {
   "cell_type": "markdown",
   "id": "0f9cbd70",
   "metadata": {},
   "source": [
    "## Numpy arrays - arange, zeros, ones, linspace, eye"
   ]
  },
  {
   "cell_type": "code",
   "execution_count": 9,
   "id": "fd664a1b",
   "metadata": {},
   "outputs": [],
   "source": [
    "import numpy as np"
   ]
  },
  {
   "cell_type": "code",
   "execution_count": 10,
   "id": "89f1e9b6",
   "metadata": {},
   "outputs": [],
   "source": [
    "array = np.arange(5)#Generar un array con metodo arange"
   ]
  },
  {
   "cell_type": "code",
   "execution_count": 11,
   "id": "7b19e4b0",
   "metadata": {},
   "outputs": [
    {
     "data": {
      "text/plain": [
       "array([0, 1, 2, 3, 4])"
      ]
     },
     "execution_count": 11,
     "metadata": {},
     "output_type": "execute_result"
    }
   ],
   "source": [
    "array #secuencia de valores desde 0 a 5-1"
   ]
  },
  {
   "cell_type": "code",
   "execution_count": 12,
   "id": "bf7c0b5d",
   "metadata": {},
   "outputs": [
    {
     "data": {
      "text/plain": [
       "array([2, 3, 4, 5, 6, 7, 8, 9])"
      ]
     },
     "execution_count": 12,
     "metadata": {},
     "output_type": "execute_result"
    }
   ],
   "source": [
    "np.arange(2,10)#Secuencia de numeros desde 2 a 10-1"
   ]
  },
  {
   "cell_type": "code",
   "execution_count": 13,
   "id": "4e60adba",
   "metadata": {},
   "outputs": [
    {
     "data": {
      "text/plain": [
       "array([2, 4, 6, 8])"
      ]
     },
     "execution_count": 13,
     "metadata": {},
     "output_type": "execute_result"
    }
   ],
   "source": [
    "np.arange(2,10,2)#En este caso crea la secuencia con un step de 2 desde el 2 hasta 10-1"
   ]
  },
  {
   "cell_type": "code",
   "execution_count": 14,
   "id": "e6430791",
   "metadata": {},
   "outputs": [
    {
     "data": {
      "text/plain": [
       "array([ 3,  5,  7,  9, 11, 13, 15, 17, 19])"
      ]
     },
     "execution_count": 14,
     "metadata": {},
     "output_type": "execute_result"
    }
   ],
   "source": [
    "np.arange(3,20,2)#En este caso crea la secuencia con un step de 3 desde el 3 hasta 20-1"
   ]
  },
  {
   "cell_type": "code",
   "execution_count": 19,
   "id": "957d9d05",
   "metadata": {},
   "outputs": [
    {
     "data": {
      "text/plain": [
       "array([0., 0., 0.])"
      ]
     },
     "execution_count": 19,
     "metadata": {},
     "output_type": "execute_result"
    }
   ],
   "source": [
    "np.zeros(3)#Genera un array de una dimension con puro ceros dependiendo a la cantidad dada en este caso 3"
   ]
  },
  {
   "cell_type": "code",
   "execution_count": 24,
   "id": "ecd6c161",
   "metadata": {},
   "outputs": [
    {
     "data": {
      "text/plain": [
       "array([[0., 0., 0., 0., 0., 0.],\n",
       "       [0., 0., 0., 0., 0., 0.],\n",
       "       [0., 0., 0., 0., 0., 0.]])"
      ]
     },
     "execution_count": 24,
     "metadata": {},
     "output_type": "execute_result"
    }
   ],
   "source": [
    "np.zeros((3,6))#Genera un array de 2 dimensiones y rellenado con ceros"
   ]
  },
  {
   "cell_type": "code",
   "execution_count": 26,
   "id": "516f5acb",
   "metadata": {},
   "outputs": [
    {
     "data": {
      "text/plain": [
       "array([1., 1., 1.])"
      ]
     },
     "execution_count": 26,
     "metadata": {},
     "output_type": "execute_result"
    }
   ],
   "source": [
    "np.ones(3)#Genera un array de una dimension con puro 1 dependiendo a la cantidad dada en este caso 3"
   ]
  },
  {
   "cell_type": "code",
   "execution_count": 27,
   "id": "de1968fd",
   "metadata": {},
   "outputs": [
    {
     "data": {
      "text/plain": [
       "array([[1., 1., 1., 1., 1., 1.],\n",
       "       [1., 1., 1., 1., 1., 1.],\n",
       "       [1., 1., 1., 1., 1., 1.]])"
      ]
     },
     "execution_count": 27,
     "metadata": {},
     "output_type": "execute_result"
    }
   ],
   "source": [
    "np.ones((3,6))#Genera un array de 2 dimensiones y rellenado con unos"
   ]
  },
  {
   "cell_type": "code",
   "execution_count": 29,
   "id": "08f65393",
   "metadata": {},
   "outputs": [
    {
     "data": {
      "text/plain": [
       "array([5.        , 5.06122449, 5.12244898, 5.18367347, 5.24489796,\n",
       "       5.30612245, 5.36734694, 5.42857143, 5.48979592, 5.55102041,\n",
       "       5.6122449 , 5.67346939, 5.73469388, 5.79591837, 5.85714286,\n",
       "       5.91836735, 5.97959184, 6.04081633, 6.10204082, 6.16326531,\n",
       "       6.2244898 , 6.28571429, 6.34693878, 6.40816327, 6.46938776,\n",
       "       6.53061224, 6.59183673, 6.65306122, 6.71428571, 6.7755102 ,\n",
       "       6.83673469, 6.89795918, 6.95918367, 7.02040816, 7.08163265,\n",
       "       7.14285714, 7.20408163, 7.26530612, 7.32653061, 7.3877551 ,\n",
       "       7.44897959, 7.51020408, 7.57142857, 7.63265306, 7.69387755,\n",
       "       7.75510204, 7.81632653, 7.87755102, 7.93877551, 8.        ])"
      ]
     },
     "execution_count": 29,
     "metadata": {},
     "output_type": "execute_result"
    }
   ],
   "source": [
    "np.linspace(5, 8, 50)#Genera un array con los siguientes parametros:\n",
    "                    #5 numero incial hasta 8 numero final y generando 50 numeros entre estos 2"
   ]
  },
  {
   "cell_type": "code",
   "execution_count": 30,
   "id": "70259641",
   "metadata": {},
   "outputs": [
    {
     "data": {
      "text/plain": [
       "array([3.        , 3.31578947, 3.63157895, 3.94736842, 4.26315789,\n",
       "       4.57894737, 4.89473684, 5.21052632, 5.52631579, 5.84210526,\n",
       "       6.15789474, 6.47368421, 6.78947368, 7.10526316, 7.42105263,\n",
       "       7.73684211, 8.05263158, 8.36842105, 8.68421053, 9.        ])"
      ]
     },
     "execution_count": 30,
     "metadata": {},
     "output_type": "execute_result"
    }
   ],
   "source": [
    "np.linspace(3, 9, 20)#Genera un array de 20 elemntos entre 3 y 9"
   ]
  },
  {
   "cell_type": "code",
   "execution_count": 31,
   "id": "585ba3b9",
   "metadata": {},
   "outputs": [
    {
     "data": {
      "text/plain": [
       "array([[1., 0., 0., 0., 0.],\n",
       "       [0., 1., 0., 0., 0.],\n",
       "       [0., 0., 1., 0., 0.],\n",
       "       [0., 0., 0., 1., 0.],\n",
       "       [0., 0., 0., 0., 1.]])"
      ]
     },
     "execution_count": 31,
     "metadata": {},
     "output_type": "execute_result"
    }
   ],
   "source": [
    "np.eye(5)#Geenra una matriz cuadrada de tanto filas como columnas el mismo valor"
   ]
  },
  {
   "cell_type": "code",
   "execution_count": 32,
   "id": "8abe4833",
   "metadata": {},
   "outputs": [
    {
     "data": {
      "text/plain": [
       "array([[1., 0., 0., 0., 0., 0.],\n",
       "       [0., 1., 0., 0., 0., 0.],\n",
       "       [0., 0., 1., 0., 0., 0.],\n",
       "       [0., 0., 0., 1., 0., 0.],\n",
       "       [0., 0., 0., 0., 1., 0.],\n",
       "       [0., 0., 0., 0., 0., 1.]])"
      ]
     },
     "execution_count": 32,
     "metadata": {},
     "output_type": "execute_result"
    }
   ],
   "source": [
    "np.eye(6)"
   ]
  },
  {
   "cell_type": "markdown",
   "id": "21cb38cc",
   "metadata": {},
   "source": [
    "## Numpy arrays - números aleatorios - rand y randn"
   ]
  },
  {
   "cell_type": "code",
   "execution_count": 33,
   "id": "784e70b7",
   "metadata": {},
   "outputs": [],
   "source": [
    "import numpy as np"
   ]
  },
  {
   "cell_type": "code",
   "execution_count": 34,
   "id": "e9c7cdf0",
   "metadata": {},
   "outputs": [
    {
     "data": {
      "text/plain": [
       "array([0.4639809 , 0.51306099, 0.41526211, 0.95912875, 0.52732904])"
      ]
     },
     "execution_count": 34,
     "metadata": {},
     "output_type": "execute_result"
    }
   ],
   "source": [
    "np.random.rand(5)#Genera un array de una dimension con numeros aletorios con 5 elmentos"
   ]
  },
  {
   "cell_type": "code",
   "execution_count": 38,
   "id": "5b54b26f",
   "metadata": {},
   "outputs": [
    {
     "data": {
      "text/plain": [
       "array([[0.45493758, 0.34448707, 0.63522551, 0.7757742 , 0.61219724],\n",
       "       [0.74313564, 0.88862208, 0.9871468 , 0.71989546, 0.47190354]])"
      ]
     },
     "execution_count": 38,
     "metadata": {},
     "output_type": "execute_result"
    }
   ],
   "source": [
    "np.random.rand(2,5)#Generar un array de 2 dimensions con numeros aletorios de 2 filas y 3 columnas"
   ]
  },
  {
   "cell_type": "code",
   "execution_count": 39,
   "id": "ad95b891",
   "metadata": {},
   "outputs": [
    {
     "data": {
      "text/plain": [
       "array([-2.36491019,  0.13193467, -1.25583642,  0.04534941])"
      ]
     },
     "execution_count": 39,
     "metadata": {},
     "output_type": "execute_result"
    }
   ],
   "source": [
    "np.random.randn(4)#Genera un array de una dimension con numeros aletorios con 4 elmentos"
   ]
  },
  {
   "cell_type": "code",
   "execution_count": 41,
   "id": "72e2808b",
   "metadata": {},
   "outputs": [
    {
     "data": {
      "text/plain": [
       "array([[ 0.73152001,  1.14938719,  0.54317727,  1.0354561 ,  0.9274449 ],\n",
       "       [ 1.81165519, -0.01649804, -0.57600602, -0.62046719, -0.41885049],\n",
       "       [-1.16305567, -1.39692529,  1.65881986, -1.15697774,  1.90583692],\n",
       "       [ 0.1074165 ,  1.09783936, -0.55078462,  1.19271924, -0.2209032 ]])"
      ]
     },
     "execution_count": 41,
     "metadata": {},
     "output_type": "execute_result"
    }
   ],
   "source": [
    "np.random.randn(4, 5)#Generar un array de 2 dimensions con numeros aletorios de 4 filas y 5 columnas"
   ]
  },
  {
   "cell_type": "markdown",
   "id": "7bf36a9a",
   "metadata": {},
   "source": [
    "## Numpy arrays - números aleatorios enteros, randint "
   ]
  },
  {
   "cell_type": "code",
   "execution_count": 42,
   "id": "387c7cac",
   "metadata": {},
   "outputs": [],
   "source": [
    "import numpy as np"
   ]
  },
  {
   "cell_type": "code",
   "execution_count": 47,
   "id": "5c6c18f3",
   "metadata": {},
   "outputs": [
    {
     "data": {
      "text/plain": [
       "6"
      ]
     },
     "execution_count": 47,
     "metadata": {},
     "output_type": "execute_result"
    }
   ],
   "source": [
    "np.random.randint(1,20)#Genera un número aletorio entre 1 y 20-1"
   ]
  },
  {
   "cell_type": "code",
   "execution_count": 48,
   "id": "62f21a4d",
   "metadata": {},
   "outputs": [
    {
     "data": {
      "text/plain": [
       "array([ 9, 13, 15, 12,  9])"
      ]
     },
     "execution_count": 48,
     "metadata": {},
     "output_type": "execute_result"
    }
   ],
   "source": [
    "np.random.randint(1,20,5)#Genera 5 numeros aleatorios entre 1 y 20-1"
   ]
  },
  {
   "cell_type": "markdown",
   "id": "0e82f00d",
   "metadata": {},
   "source": [
    "## Numpy arrays - reshape"
   ]
  },
  {
   "cell_type": "code",
   "execution_count": 49,
   "id": "409da962",
   "metadata": {},
   "outputs": [],
   "source": [
    "import numpy as np"
   ]
  },
  {
   "cell_type": "code",
   "execution_count": 70,
   "id": "0b7c1388",
   "metadata": {},
   "outputs": [],
   "source": [
    "array = np.random.randint(1,100, 25)#Genera un array de 25 elementos de numeros entre 1 y 100"
   ]
  },
  {
   "cell_type": "code",
   "execution_count": 71,
   "id": "4ef9e9dd",
   "metadata": {},
   "outputs": [
    {
     "data": {
      "text/plain": [
       "array([14,  3, 91, 88, 10, 83, 39, 15, 71, 65, 77, 78, 42, 89, 76, 44, 33,\n",
       "       67, 18, 75, 27, 49, 71, 24, 17])"
      ]
     },
     "execution_count": 71,
     "metadata": {},
     "output_type": "execute_result"
    }
   ],
   "source": [
    "array"
   ]
  },
  {
   "cell_type": "code",
   "execution_count": 72,
   "id": "5117b029",
   "metadata": {},
   "outputs": [],
   "source": [
    "matriz = array.reshape(5,5)#Reforma el array a como querramos simepre y cuando las multiplicaion de las filas y columnas den el\n",
    "                            #numero de elemetos del array, en este caso 25 = 5*5"
   ]
  },
  {
   "cell_type": "code",
   "execution_count": 74,
   "id": "c389e2a1",
   "metadata": {},
   "outputs": [
    {
     "data": {
      "text/plain": [
       "array([[14,  3, 91, 88, 10],\n",
       "       [83, 39, 15, 71, 65],\n",
       "       [77, 78, 42, 89, 76],\n",
       "       [44, 33, 67, 18, 75],\n",
       "       [27, 49, 71, 24, 17]])"
      ]
     },
     "execution_count": 74,
     "metadata": {},
     "output_type": "execute_result"
    }
   ],
   "source": [
    "matriz#MAtriz de 2 deimensiones de 5 filas y 5 columnas"
   ]
  },
  {
   "cell_type": "markdown",
   "id": "4ed126cf",
   "metadata": {},
   "source": [
    "## Numpy arrays - max y min"
   ]
  },
  {
   "cell_type": "code",
   "execution_count": 75,
   "id": "43588e68",
   "metadata": {},
   "outputs": [],
   "source": [
    "import numpy as np"
   ]
  },
  {
   "cell_type": "code",
   "execution_count": 76,
   "id": "f2bfdff1",
   "metadata": {},
   "outputs": [],
   "source": [
    "array = np.random.randint(1,100,50)#Genera un array con 50 elementos entre 1 y 100"
   ]
  },
  {
   "cell_type": "code",
   "execution_count": 77,
   "id": "c6c2e468",
   "metadata": {},
   "outputs": [
    {
     "data": {
      "text/plain": [
       "array([ 1, 72, 36, 38,  8, 47, 95, 23, 97, 16, 76, 55, 32, 12, 65, 67, 40,\n",
       "       76, 40, 33, 13, 31, 21, 21, 89, 75, 66, 88,  2, 58, 80, 97, 92, 14,\n",
       "       33, 52, 81, 74, 80, 54, 45, 33, 64, 78, 46, 90, 80, 65, 56, 75])"
      ]
     },
     "execution_count": 77,
     "metadata": {},
     "output_type": "execute_result"
    }
   ],
   "source": [
    "array"
   ]
  },
  {
   "cell_type": "code",
   "execution_count": 86,
   "id": "b7b68046",
   "metadata": {},
   "outputs": [
    {
     "data": {
      "text/plain": [
       "97"
      ]
     },
     "execution_count": 86,
     "metadata": {},
     "output_type": "execute_result"
    }
   ],
   "source": [
    "#Saca el mayor variable del array en otra variable\n",
    "valor_maximo = array.max()\n",
    "valor_maximo"
   ]
  },
  {
   "cell_type": "code",
   "execution_count": 87,
   "id": "76452534",
   "metadata": {},
   "outputs": [
    {
     "data": {
      "text/plain": [
       "8"
      ]
     },
     "execution_count": 87,
     "metadata": {},
     "output_type": "execute_result"
    }
   ],
   "source": [
    "#Posicion en el array del mayor valor\n",
    "posicion_valor_maximo = array.argmax()\n",
    "posicion_valor_maximo"
   ]
  },
  {
   "cell_type": "code",
   "execution_count": 82,
   "id": "f8a2d77d",
   "metadata": {},
   "outputs": [
    {
     "data": {
      "text/plain": [
       "1"
      ]
     },
     "execution_count": 82,
     "metadata": {},
     "output_type": "execute_result"
    }
   ],
   "source": [
    "#Saca la menor variable del array en otra variable\n",
    "valor_minimo = array.min()\n",
    "valor_minimo"
   ]
  },
  {
   "cell_type": "code",
   "execution_count": 88,
   "id": "404e8983",
   "metadata": {},
   "outputs": [
    {
     "data": {
      "text/plain": [
       "0"
      ]
     },
     "execution_count": 88,
     "metadata": {},
     "output_type": "execute_result"
    }
   ],
   "source": [
    "#Posicion en el array del valor minimo\n",
    "posicion_valor_minimo = array.argmin()\n",
    "posicion_valor_minimo"
   ]
  },
  {
   "cell_type": "markdown",
   "id": "66df63dd",
   "metadata": {},
   "source": [
    "## Numpy - Indexacion en arrays"
   ]
  },
  {
   "cell_type": "code",
   "execution_count": 89,
   "id": "b30e293e",
   "metadata": {},
   "outputs": [],
   "source": [
    "import numpy as np"
   ]
  },
  {
   "cell_type": "code",
   "execution_count": 90,
   "id": "d18f1a54",
   "metadata": {},
   "outputs": [],
   "source": [
    "array = np.arange(0,10)"
   ]
  },
  {
   "cell_type": "code",
   "execution_count": 91,
   "id": "c0859cf3",
   "metadata": {},
   "outputs": [
    {
     "data": {
      "text/plain": [
       "array([0, 1, 2, 3, 4, 5, 6, 7, 8, 9])"
      ]
     },
     "execution_count": 91,
     "metadata": {},
     "output_type": "execute_result"
    }
   ],
   "source": [
    "array"
   ]
  },
  {
   "cell_type": "code",
   "execution_count": 92,
   "id": "af9f38b9",
   "metadata": {},
   "outputs": [
    {
     "data": {
      "text/plain": [
       "0"
      ]
     },
     "execution_count": 92,
     "metadata": {},
     "output_type": "execute_result"
    }
   ],
   "source": [
    "array [0]#Idenxacion de Arrays"
   ]
  },
  {
   "cell_type": "code",
   "execution_count": 93,
   "id": "ad2752a1",
   "metadata": {},
   "outputs": [
    {
     "data": {
      "text/plain": [
       "1"
      ]
     },
     "execution_count": 93,
     "metadata": {},
     "output_type": "execute_result"
    }
   ],
   "source": [
    "array[1]#Segundo elemnto"
   ]
  },
  {
   "cell_type": "code",
   "execution_count": 94,
   "id": "628dacad",
   "metadata": {},
   "outputs": [
    {
     "data": {
      "text/plain": [
       "9"
      ]
     },
     "execution_count": 94,
     "metadata": {},
     "output_type": "execute_result"
    }
   ],
   "source": [
    "array[-1]#Elemento en la ultima posicion"
   ]
  },
  {
   "cell_type": "code",
   "execution_count": 95,
   "id": "705899cd",
   "metadata": {},
   "outputs": [
    {
     "data": {
      "text/plain": [
       "array([2, 3])"
      ]
     },
     "execution_count": 95,
     "metadata": {},
     "output_type": "execute_result"
    }
   ],
   "source": [
    "array[2:4]#Muestra elementos entre posicion 2 a la poscion 4-1"
   ]
  },
  {
   "cell_type": "code",
   "execution_count": 96,
   "id": "8d456c76",
   "metadata": {},
   "outputs": [
    {
     "data": {
      "text/plain": [
       "array([5, 6, 7, 8, 9])"
      ]
     },
     "execution_count": 96,
     "metadata": {},
     "output_type": "execute_result"
    }
   ],
   "source": [
    "array[5:]#Muestra datos desde la 6ta posicion hata la ultima"
   ]
  },
  {
   "cell_type": "code",
   "execution_count": 97,
   "id": "0716d195",
   "metadata": {},
   "outputs": [
    {
     "data": {
      "text/plain": [
       "array([0, 1, 2, 3])"
      ]
     },
     "execution_count": 97,
     "metadata": {},
     "output_type": "execute_result"
    }
   ],
   "source": [
    "array[:4]#El primer elmento hasta la posicion 4 -1"
   ]
  },
  {
   "cell_type": "code",
   "execution_count": 99,
   "id": "c52fcdf9",
   "metadata": {},
   "outputs": [
    {
     "data": {
      "text/plain": [
       "array([0, 1, 2, 3, 4, 5, 6, 7, 8, 9])"
      ]
     },
     "execution_count": 99,
     "metadata": {},
     "output_type": "execute_result"
    }
   ],
   "source": [
    "#Copia del Array con la funcion copy()\n",
    "array2 = array.copy()\n",
    "array2"
   ]
  },
  {
   "cell_type": "code",
   "execution_count": 103,
   "id": "02865aa6",
   "metadata": {},
   "outputs": [
    {
     "data": {
      "text/plain": [
       "array([100,   1,   2,   3,   4,   5,   6,   7,   8,   9])"
      ]
     },
     "execution_count": 103,
     "metadata": {},
     "output_type": "execute_result"
    }
   ],
   "source": [
    "#Si se altera la copia del array\n",
    "array2[0] = 100\n",
    "array2"
   ]
  },
  {
   "cell_type": "code",
   "execution_count": 104,
   "id": "e97a722c",
   "metadata": {},
   "outputs": [
    {
     "data": {
      "text/plain": [
       "array([0, 1, 2, 3, 4, 5, 6, 7, 8, 9])"
      ]
     },
     "execution_count": 104,
     "metadata": {},
     "output_type": "execute_result"
    }
   ],
   "source": [
    "#El original conserva sus datos\n",
    "array"
   ]
  },
  {
   "cell_type": "markdown",
   "id": "d4523afc",
   "metadata": {},
   "source": [
    "## Numpy - Indexacion en arrays de 2 a mas dimensiones"
   ]
  },
  {
   "cell_type": "code",
   "execution_count": 105,
   "id": "2e85e27f",
   "metadata": {},
   "outputs": [],
   "source": [
    "import numpy as np"
   ]
  },
  {
   "cell_type": "code",
   "execution_count": 107,
   "id": "00b91bc0",
   "metadata": {},
   "outputs": [
    {
     "data": {
      "text/plain": [
       "array([[1, 2, 3],\n",
       "       [4, 5, 6],\n",
       "       [7, 8, 9]])"
      ]
     },
     "execution_count": 107,
     "metadata": {},
     "output_type": "execute_result"
    }
   ],
   "source": [
    "array = np.array([[1,2,3],[4,5,6],[7,8,9]])\n",
    "array"
   ]
  },
  {
   "cell_type": "code",
   "execution_count": 108,
   "id": "282958ce",
   "metadata": {},
   "outputs": [
    {
     "data": {
      "text/plain": [
       "array([1, 2, 3])"
      ]
     },
     "execution_count": 108,
     "metadata": {},
     "output_type": "execute_result"
    }
   ],
   "source": [
    "array[0]"
   ]
  },
  {
   "cell_type": "code",
   "execution_count": 112,
   "id": "21aa0ea0",
   "metadata": {},
   "outputs": [
    {
     "name": "stdout",
     "output_type": "stream",
     "text": [
      "[[1 2 3]\n",
      " [4 5 6]]\n"
     ]
    }
   ],
   "source": [
    "print(array[:2])\n",
    "array2 = array[:2]"
   ]
  },
  {
   "cell_type": "code",
   "execution_count": 113,
   "id": "95fcfed3",
   "metadata": {},
   "outputs": [
    {
     "data": {
      "text/plain": [
       "array([[1, 2, 3],\n",
       "       [4, 5, 6]])"
      ]
     },
     "execution_count": 113,
     "metadata": {},
     "output_type": "execute_result"
    }
   ],
   "source": [
    "array2"
   ]
  },
  {
   "cell_type": "code",
   "execution_count": 114,
   "id": "3511c1ff",
   "metadata": {},
   "outputs": [
    {
     "data": {
      "text/plain": [
       "array([[1, 2, 3],\n",
       "       [4, 5, 6],\n",
       "       [7, 8, 9]])"
      ]
     },
     "execution_count": 114,
     "metadata": {},
     "output_type": "execute_result"
    }
   ],
   "source": [
    "array"
   ]
  },
  {
   "cell_type": "code",
   "execution_count": 115,
   "id": "5b61a42e",
   "metadata": {},
   "outputs": [
    {
     "data": {
      "text/plain": [
       "1"
      ]
     },
     "execution_count": 115,
     "metadata": {},
     "output_type": "execute_result"
    }
   ],
   "source": [
    "array[0][0]"
   ]
  },
  {
   "cell_type": "code",
   "execution_count": 116,
   "id": "7954e171",
   "metadata": {},
   "outputs": [
    {
     "data": {
      "text/plain": [
       "5"
      ]
     },
     "execution_count": 116,
     "metadata": {},
     "output_type": "execute_result"
    }
   ],
   "source": [
    "array[1,1]"
   ]
  },
  {
   "cell_type": "code",
   "execution_count": 117,
   "id": "129eba36",
   "metadata": {},
   "outputs": [
    {
     "data": {
      "text/plain": [
       "array([1, 4, 7])"
      ]
     },
     "execution_count": 117,
     "metadata": {},
     "output_type": "execute_result"
    }
   ],
   "source": [
    "array[:,0]#Mostar la primera columna"
   ]
  },
  {
   "cell_type": "code",
   "execution_count": 119,
   "id": "52379f12",
   "metadata": {},
   "outputs": [
    {
     "data": {
      "text/plain": [
       "array([[1, 2, 3]])"
      ]
     },
     "execution_count": 119,
     "metadata": {},
     "output_type": "execute_result"
    }
   ],
   "source": [
    "array[:1]#Mostrar la primera fila"
   ]
  },
  {
   "cell_type": "code",
   "execution_count": 124,
   "id": "bc312ec7",
   "metadata": {},
   "outputs": [
    {
     "data": {
      "text/plain": [
       "array([[1, 2],\n",
       "       [4, 5],\n",
       "       [7, 8]])"
      ]
     },
     "execution_count": 124,
     "metadata": {},
     "output_type": "execute_result"
    }
   ],
   "source": [
    "array[:,:2]#Muestra Las columnas desde esl inicio hasta 2-1"
   ]
  },
  {
   "cell_type": "code",
   "execution_count": 125,
   "id": "f64d2348",
   "metadata": {},
   "outputs": [
    {
     "data": {
      "text/plain": [
       "array([[1, 2, 3],\n",
       "       [4, 5, 6]])"
      ]
     },
     "execution_count": 125,
     "metadata": {},
     "output_type": "execute_result"
    }
   ],
   "source": [
    "array[:2,:]#Muestra las filas desde el inicio hasta 2-1"
   ]
  },
  {
   "cell_type": "markdown",
   "id": "2d5b1a9f",
   "metadata": {},
   "source": [
    "## Numpy - Seleccionar elementos de un array segun una condicion"
   ]
  },
  {
   "cell_type": "code",
   "execution_count": 126,
   "id": "20588067",
   "metadata": {},
   "outputs": [],
   "source": [
    "import numpy as np"
   ]
  },
  {
   "cell_type": "code",
   "execution_count": 130,
   "id": "a20fbb31",
   "metadata": {},
   "outputs": [],
   "source": [
    "array = np.arange(0,10)"
   ]
  },
  {
   "cell_type": "code",
   "execution_count": 131,
   "id": "d865be4c",
   "metadata": {},
   "outputs": [
    {
     "data": {
      "text/plain": [
       "array([0, 1, 2, 3, 4, 5, 6, 7, 8, 9])"
      ]
     },
     "execution_count": 131,
     "metadata": {},
     "output_type": "execute_result"
    }
   ],
   "source": [
    "array"
   ]
  },
  {
   "cell_type": "code",
   "execution_count": 138,
   "id": "24f04799",
   "metadata": {},
   "outputs": [],
   "source": [
    "condicion = array > 5# Inplementa operadores de comparacion sobre todos los elementos del array"
   ]
  },
  {
   "cell_type": "code",
   "execution_count": 133,
   "id": "1955862c",
   "metadata": {},
   "outputs": [
    {
     "data": {
      "text/plain": [
       "array([False, False, False, False, False, False,  True,  True,  True,\n",
       "        True])"
      ]
     },
     "execution_count": 133,
     "metadata": {},
     "output_type": "execute_result"
    }
   ],
   "source": [
    "condicion"
   ]
  },
  {
   "cell_type": "code",
   "execution_count": 139,
   "id": "01a3c622",
   "metadata": {},
   "outputs": [
    {
     "data": {
      "text/plain": [
       "array([6, 7, 8, 9])"
      ]
     },
     "execution_count": 139,
     "metadata": {},
     "output_type": "execute_result"
    }
   ],
   "source": [
    "array[condicion]#Muestra cuales son los elemtnos que cumples la condicion"
   ]
  },
  {
   "cell_type": "code",
   "execution_count": 137,
   "id": "e473951a",
   "metadata": {},
   "outputs": [
    {
     "data": {
      "text/plain": [
       "array([0, 1, 2, 3, 4, 5])"
      ]
     },
     "execution_count": 137,
     "metadata": {},
     "output_type": "execute_result"
    }
   ],
   "source": [
    "array6 = array[array < 6]\n",
    "array6"
   ]
  },
  {
   "cell_type": "code",
   "execution_count": 141,
   "id": "4ab1049f",
   "metadata": {},
   "outputs": [
    {
     "data": {
      "text/plain": [
       "array([0, 2, 4, 6, 8])"
      ]
     },
     "execution_count": 141,
     "metadata": {},
     "output_type": "execute_result"
    }
   ],
   "source": [
    "array[array % 2 ==0]#Muestra solo los elemtos pares gracias  a la condicion"
   ]
  },
  {
   "cell_type": "markdown",
   "id": "bda0f427",
   "metadata": {},
   "source": [
    "## Numpy - Operaciones sobre los arrays"
   ]
  },
  {
   "cell_type": "markdown",
   "id": "b24de50e",
   "metadata": {},
   "source": [
    "Las operacions afectan sobre todos los elementos del array"
   ]
  },
  {
   "cell_type": "code",
   "execution_count": 142,
   "id": "6a2d8df6",
   "metadata": {},
   "outputs": [],
   "source": [
    "import numpy as np"
   ]
  },
  {
   "cell_type": "code",
   "execution_count": 143,
   "id": "c2991803",
   "metadata": {},
   "outputs": [],
   "source": [
    "array = np.arange(0,10)"
   ]
  },
  {
   "cell_type": "code",
   "execution_count": 144,
   "id": "05fddcbd",
   "metadata": {},
   "outputs": [
    {
     "data": {
      "text/plain": [
       "array([0, 1, 2, 3, 4, 5, 6, 7, 8, 9])"
      ]
     },
     "execution_count": 144,
     "metadata": {},
     "output_type": "execute_result"
    }
   ],
   "source": [
    "array"
   ]
  },
  {
   "cell_type": "code",
   "execution_count": 145,
   "id": "adfc2a1a",
   "metadata": {},
   "outputs": [
    {
     "data": {
      "text/plain": [
       "array([ 0,  2,  4,  6,  8, 10, 12, 14, 16, 18])"
      ]
     },
     "execution_count": 145,
     "metadata": {},
     "output_type": "execute_result"
    }
   ],
   "source": [
    "array + array"
   ]
  },
  {
   "cell_type": "code",
   "execution_count": 146,
   "id": "8cf518cc",
   "metadata": {},
   "outputs": [
    {
     "data": {
      "text/plain": [
       "array([0, 0, 0, 0, 0, 0, 0, 0, 0, 0])"
      ]
     },
     "execution_count": 146,
     "metadata": {},
     "output_type": "execute_result"
    }
   ],
   "source": [
    "array - array"
   ]
  },
  {
   "cell_type": "code",
   "execution_count": 147,
   "id": "e162e37e",
   "metadata": {},
   "outputs": [
    {
     "data": {
      "text/plain": [
       "array([40, 41, 42, 43, 44, 45, 46, 47, 48, 49])"
      ]
     },
     "execution_count": 147,
     "metadata": {},
     "output_type": "execute_result"
    }
   ],
   "source": [
    "array + 40"
   ]
  },
  {
   "cell_type": "code",
   "execution_count": 148,
   "id": "c9062c85",
   "metadata": {},
   "outputs": [
    {
     "data": {
      "text/plain": [
       "array([-1,  0,  1,  2,  3,  4,  5,  6,  7,  8])"
      ]
     },
     "execution_count": 148,
     "metadata": {},
     "output_type": "execute_result"
    }
   ],
   "source": [
    "array - 1"
   ]
  },
  {
   "cell_type": "code",
   "execution_count": 153,
   "id": "4caed9bb",
   "metadata": {},
   "outputs": [
    {
     "data": {
      "text/plain": [
       "array([ 5,  6,  7,  8,  9, 10, 11, 12, 13, 14])"
      ]
     },
     "execution_count": 153,
     "metadata": {},
     "output_type": "execute_result"
    }
   ],
   "source": [
    "array2 = np.arange(5,15)\n",
    "array2"
   ]
  },
  {
   "cell_type": "code",
   "execution_count": 154,
   "id": "2c0bee95",
   "metadata": {},
   "outputs": [
    {
     "data": {
      "text/plain": [
       "array([5, 5, 5, 5, 5, 5, 5, 5, 5, 5])"
      ]
     },
     "execution_count": 154,
     "metadata": {},
     "output_type": "execute_result"
    }
   ],
   "source": [
    "#Operaciones entre 2 arryas los ejecuta con elementos en las mismas posiciones\n",
    "array2 - array"
   ]
  },
  {
   "cell_type": "code",
   "execution_count": 156,
   "id": "a66965ae",
   "metadata": {},
   "outputs": [
    {
     "data": {
      "text/plain": [
       "array([  0,   6,  14,  24,  36,  50,  66,  84, 104, 126])"
      ]
     },
     "execution_count": 156,
     "metadata": {},
     "output_type": "execute_result"
    }
   ],
   "source": [
    "array2 * array"
   ]
  },
  {
   "cell_type": "code",
   "execution_count": 157,
   "id": "d46ef39f",
   "metadata": {},
   "outputs": [
    {
     "data": {
      "text/plain": [
       "9"
      ]
     },
     "execution_count": 157,
     "metadata": {},
     "output_type": "execute_result"
    }
   ],
   "source": [
    "np.max(array)"
   ]
  },
  {
   "cell_type": "code",
   "execution_count": 158,
   "id": "92f8f02b",
   "metadata": {},
   "outputs": [
    {
     "data": {
      "text/plain": [
       "0"
      ]
     },
     "execution_count": 158,
     "metadata": {},
     "output_type": "execute_result"
    }
   ],
   "source": [
    "np.min(array)"
   ]
  },
  {
   "cell_type": "code",
   "execution_count": null,
   "id": "4ce00b82",
   "metadata": {},
   "outputs": [],
   "source": []
  }
 ],
 "metadata": {
  "kernelspec": {
   "display_name": "Python 3 (ipykernel)",
   "language": "python",
   "name": "python3"
  },
  "language_info": {
   "codemirror_mode": {
    "name": "ipython",
    "version": 3
   },
   "file_extension": ".py",
   "mimetype": "text/x-python",
   "name": "python",
   "nbconvert_exporter": "python",
   "pygments_lexer": "ipython3",
   "version": "3.9.7"
  }
 },
 "nbformat": 4,
 "nbformat_minor": 5
}
