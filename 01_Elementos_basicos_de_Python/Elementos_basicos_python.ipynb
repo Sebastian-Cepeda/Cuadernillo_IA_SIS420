{
 "cells": [
  {
   "cell_type": "markdown",
   "id": "7b48bf77",
   "metadata": {},
   "source": [
    "# Elementos Básicos"
   ]
  },
  {
   "cell_type": "markdown",
   "id": "008d0053",
   "metadata": {},
   "source": [
    "Son solo repasos breves de lo llevado anteriormente, pero todo se encuentra en codigo python, solo es un repaso no lo debes de tomar como una explicacion completa, si se quiere completar el estudio de python, deberias leer documentos sobre python o la misma documentacion de python para ir incorporando la lectura como algo cotiadidano.\n",
    "\n",
    "https://www.w3schools.com/python/python_operators.asp - ahi podras complementar los ejemplos que se describen aqui"
   ]
  },
  {
   "cell_type": "markdown",
   "id": "8f9202e3",
   "metadata": {},
   "source": [
    "# Números"
   ]
  },
  {
   "cell_type": "markdown",
   "id": "af4d9887",
   "metadata": {},
   "source": [
    "Explicacion sencilla sobre los numeros en python"
   ]
  },
  {
   "cell_type": "code",
   "execution_count": 31,
   "id": "81ad8843",
   "metadata": {},
   "outputs": [
    {
     "data": {
      "text/plain": [
       "8"
      ]
     },
     "execution_count": 31,
     "metadata": {},
     "output_type": "execute_result"
    }
   ],
   "source": [
    "'''\n",
    "Puedes ejebutar con el boton run en la parte superior\n",
    "'''\n",
    "3+5"
   ]
  },
  {
   "cell_type": "code",
   "execution_count": 1,
   "id": "2db54f5c",
   "metadata": {},
   "outputs": [
    {
     "data": {
      "text/plain": [
       "9"
      ]
     },
     "execution_count": 1,
     "metadata": {},
     "output_type": "execute_result"
    }
   ],
   "source": [
    "'''\n",
    "O puedes ejecutar con la combinacion de teclas \"shift+enter\"\n",
    "'''\n",
    "4+5"
   ]
  },
  {
   "cell_type": "code",
   "execution_count": 2,
   "id": "350e8426",
   "metadata": {},
   "outputs": [
    {
     "data": {
      "text/plain": [
       "6"
      ]
     },
     "execution_count": 2,
     "metadata": {},
     "output_type": "execute_result"
    }
   ],
   "source": [
    "3+3"
   ]
  },
  {
   "cell_type": "code",
   "execution_count": 34,
   "id": "b9b16686",
   "metadata": {},
   "outputs": [
    {
     "data": {
      "text/plain": [
       "1"
      ]
     },
     "execution_count": 34,
     "metadata": {},
     "output_type": "execute_result"
    }
   ],
   "source": [
    "5-4"
   ]
  },
  {
   "cell_type": "code",
   "execution_count": 35,
   "id": "a4589028",
   "metadata": {},
   "outputs": [
    {
     "data": {
      "text/plain": [
       "35"
      ]
     },
     "execution_count": 35,
     "metadata": {},
     "output_type": "execute_result"
    }
   ],
   "source": [
    "5*7"
   ]
  },
  {
   "cell_type": "code",
   "execution_count": 36,
   "id": "4fdd43e9",
   "metadata": {},
   "outputs": [
    {
     "data": {
      "text/plain": [
       "2.5"
      ]
     },
     "execution_count": 36,
     "metadata": {},
     "output_type": "execute_result"
    }
   ],
   "source": [
    "5/2"
   ]
  },
  {
   "cell_type": "code",
   "execution_count": 37,
   "id": "ad94b20c",
   "metadata": {},
   "outputs": [
    {
     "data": {
      "text/plain": [
       "1"
      ]
     },
     "execution_count": 37,
     "metadata": {},
     "output_type": "execute_result"
    }
   ],
   "source": [
    "5%2"
   ]
  },
  {
   "cell_type": "code",
   "execution_count": 38,
   "id": "ebef6b8f",
   "metadata": {},
   "outputs": [
    {
     "data": {
      "text/plain": [
       "0"
      ]
     },
     "execution_count": 38,
     "metadata": {},
     "output_type": "execute_result"
    }
   ],
   "source": [
    "6%2"
   ]
  },
  {
   "cell_type": "code",
   "execution_count": 4,
   "id": "778d238b",
   "metadata": {},
   "outputs": [],
   "source": [
    "#Ejecutar antes seguir al siguiente cuadro\n",
    "variable = 5"
   ]
  },
  {
   "cell_type": "code",
   "execution_count": 5,
   "id": "36f43ab9",
   "metadata": {},
   "outputs": [
    {
     "data": {
      "text/plain": [
       "10"
      ]
     },
     "execution_count": 5,
     "metadata": {},
     "output_type": "execute_result"
    }
   ],
   "source": [
    "# Si sale algun error es porque no se ejecuto el cuadro anterior\n",
    "variable * 2"
   ]
  },
  {
   "cell_type": "code",
   "execution_count": 42,
   "id": "49372aee",
   "metadata": {},
   "outputs": [],
   "source": [
    "variable1 = 3\n",
    "variable2 = 4\n",
    "resultado = variable1 + variable2"
   ]
  },
  {
   "cell_type": "code",
   "execution_count": 43,
   "id": "0b6f6229",
   "metadata": {},
   "outputs": [
    {
     "data": {
      "text/plain": [
       "7"
      ]
     },
     "execution_count": 43,
     "metadata": {},
     "output_type": "execute_result"
    }
   ],
   "source": [
    "resultado #En Jupyter se puede mostrar variables de esta mera"
   ]
  },
  {
   "cell_type": "code",
   "execution_count": 44,
   "id": "08afd931",
   "metadata": {},
   "outputs": [
    {
     "name": "stdout",
     "output_type": "stream",
     "text": [
      "7\n"
     ]
    }
   ],
   "source": [
    "print(resultado)# O de esta forma tambien funciona"
   ]
  },
  {
   "cell_type": "markdown",
   "id": "6b117c71",
   "metadata": {},
   "source": [
    "# Como funcionan un poco las cadenas de caracteres en python"
   ]
  },
  {
   "cell_type": "code",
   "execution_count": 131,
   "id": "56666ece",
   "metadata": {},
   "outputs": [
    {
     "data": {
      "text/plain": [
       "'hola que tal'"
      ]
     },
     "execution_count": 131,
     "metadata": {},
     "output_type": "execute_result"
    }
   ],
   "source": [
    "\"\"\"\n",
    "shif + enter para que el modulo de ejecute(por modulo me refiero al recuadro donde se encuentra el codigo a ejecutar)\n",
    "\"\"\"\n",
    "\n",
    "'hola que tal'\n"
   ]
  },
  {
   "cell_type": "code",
   "execution_count": 2,
   "id": "abb83dcc",
   "metadata": {},
   "outputs": [
    {
     "data": {
      "text/plain": [
       "'Esto es una cadena'"
      ]
     },
     "execution_count": 2,
     "metadata": {},
     "output_type": "execute_result"
    }
   ],
   "source": [
    "\"Esto es una cadena\""
   ]
  },
  {
   "cell_type": "code",
   "execution_count": 3,
   "id": "fef68efe",
   "metadata": {},
   "outputs": [
    {
     "data": {
      "text/plain": [
       "\"Esto seria 'otra' cadena\""
      ]
     },
     "execution_count": 3,
     "metadata": {},
     "output_type": "execute_result"
    }
   ],
   "source": [
    "\"Esto seria 'otra' cadena\""
   ]
  },
  {
   "cell_type": "code",
   "execution_count": 4,
   "id": "826ffec2",
   "metadata": {},
   "outputs": [],
   "source": [
    "cadena = \"Buenos dias\""
   ]
  },
  {
   "cell_type": "code",
   "execution_count": 5,
   "id": "373f22fd",
   "metadata": {},
   "outputs": [
    {
     "data": {
      "text/plain": [
       "'Buenos dias'"
      ]
     },
     "execution_count": 5,
     "metadata": {},
     "output_type": "execute_result"
    }
   ],
   "source": [
    "cadena"
   ]
  },
  {
   "cell_type": "code",
   "execution_count": 6,
   "id": "6bcf523b",
   "metadata": {},
   "outputs": [
    {
     "name": "stdout",
     "output_type": "stream",
     "text": [
      "Buenos dias\n"
     ]
    }
   ],
   "source": [
    "print(cadena)"
   ]
  },
  {
   "cell_type": "code",
   "execution_count": 6,
   "id": "f16bd70d",
   "metadata": {},
   "outputs": [
    {
     "name": "stdout",
     "output_type": "stream",
     "text": [
      "Mi nombre es Antonio y tengo 30 anios\n",
      "Mi nombre es Antonio y tengo 30 anios\n"
     ]
    }
   ],
   "source": [
    "nombre = \"Antonio\"\n",
    "edad = 30\n",
    "#Esta manera de concatenar es la mas usada\n",
    "print(\"Mi nombre es {} y tengo {} anios\".format(nombre,edad))#Concatenacion de cadenas con la funcion format\n",
    "\n",
    "# o tambien de esta otra dorma que tambien es con format\n",
    "\n",
    "print(f\"Mi nombre es {nombre} y tengo {edad} anios\")\n",
    "\n",
    "#Cualquiera de las 2 funciona pero son las mas usadas"
   ]
  },
  {
   "cell_type": "code",
   "execution_count": 9,
   "id": "d80909ea",
   "metadata": {},
   "outputs": [
    {
     "name": "stdout",
     "output_type": "stream",
     "text": [
      "Mi nombre es Antonio y tengo 30 anios\n"
     ]
    }
   ],
   "source": [
    "#Esta tambien es otra forma.\n",
    "nombre = \"Antonio\"\n",
    "edad = 30\n",
    "print(\"Mi nombre es {variable1} y tengo {variable2} anios\".format(variable1 = nombre,variable2 = edad))"
   ]
  },
  {
   "cell_type": "code",
   "execution_count": 10,
   "id": "f4712af9",
   "metadata": {},
   "outputs": [],
   "source": [
    "cadena = \"futbol\" # Recuerda que las cadenas son conjuntos de caracteres por lo tanto se pueden invocar a sus caracteres"
   ]
  },
  {
   "cell_type": "code",
   "execution_count": 11,
   "id": "a4e578ac",
   "metadata": {},
   "outputs": [
    {
     "data": {
      "text/plain": [
       "'f'"
      ]
     },
     "execution_count": 11,
     "metadata": {},
     "output_type": "execute_result"
    }
   ],
   "source": [
    "cadena[0]# De esta forma se llama al promer caracter de la cadena"
   ]
  },
  {
   "cell_type": "code",
   "execution_count": 12,
   "id": "04cbd3d1",
   "metadata": {},
   "outputs": [
    {
     "data": {
      "text/plain": [
       "'u'"
      ]
     },
     "execution_count": 12,
     "metadata": {},
     "output_type": "execute_result"
    }
   ],
   "source": [
    "cadena[1]# 2do caracter"
   ]
  },
  {
   "cell_type": "code",
   "execution_count": 13,
   "id": "57ffd426",
   "metadata": {},
   "outputs": [
    {
     "data": {
      "text/plain": [
       "'l'"
      ]
     },
     "execution_count": 13,
     "metadata": {},
     "output_type": "execute_result"
    }
   ],
   "source": [
    "cadena[5]# 6to caracter"
   ]
  },
  {
   "cell_type": "code",
   "execution_count": 14,
   "id": "26f3d3b3",
   "metadata": {},
   "outputs": [
    {
     "data": {
      "text/plain": [
       "'l'"
      ]
     },
     "execution_count": 14,
     "metadata": {},
     "output_type": "execute_result"
    }
   ],
   "source": [
    "cadena[-1]# Ultimo caracter"
   ]
  },
  {
   "cell_type": "code",
   "execution_count": 15,
   "id": "8b20465f",
   "metadata": {},
   "outputs": [
    {
     "data": {
      "text/plain": [
       "'utb'"
      ]
     },
     "execution_count": 15,
     "metadata": {},
     "output_type": "execute_result"
    }
   ],
   "source": [
    "cadena[1:4]# Muestra las posicones de la 1 hasta la 4 - 1."
   ]
  },
  {
   "cell_type": "markdown",
   "id": "51a0697b",
   "metadata": {},
   "source": [
    "# Transformaciones"
   ]
  },
  {
   "cell_type": "markdown",
   "id": "4b707650",
   "metadata": {},
   "source": [
    "O conversiones de un tipo de variable a otra por ejemplo de tipo (int) a tipo (string), como tal hay que seguir algunas reglas de pyhton"
   ]
  },
  {
   "cell_type": "code",
   "execution_count": 46,
   "id": "3ad9d46f",
   "metadata": {},
   "outputs": [
    {
     "name": "stdout",
     "output_type": "stream",
     "text": [
      "my_name => 12\n",
      "<class 'str'>\n",
      "my_age => 12\n",
      "<class 'int'>\n",
      "is_single => False\n",
      "<class 'bool'>\n",
      "¿Cuál es tu edad? 12\n",
      "my_age => 12\n",
      "<class 'str'>\n"
     ]
    }
   ],
   "source": [
    "'''\n",
    "Primero hay que conocer el tipo de dato que pueda estar adquiriendo esa variable, mas por tener el conocimiento de que tipo\n",
    "de dato es y cual queremos transformar\n",
    "\n",
    "\n",
    "'''\n",
    "# string\n",
    "my_name = \"Nicolas\"\n",
    "my_name = 'Santiago'\n",
    "my_name = \"12\"\n",
    "print('my_name =>', my_name)\n",
    "print(type(my_name))\n",
    "\n",
    "# int\n",
    "my_age = 12\n",
    "print('my_age =>', my_age)\n",
    "print(type(my_age))\n",
    "\n",
    "# boolean\n",
    "is_single = False\n",
    "print('is_single =>', is_single)\n",
    "print(type(is_single))\n",
    "\n",
    "# inputs- siempre adquieren de tipo String, no importa que ingreses numeros o valores boolean, siempre sera de tipo string\n",
    "my_age = input('¿Cuál es tu edad? ')\n",
    "print('my_age =>', my_age)\n",
    "print(type(my_age))"
   ]
  },
  {
   "cell_type": "markdown",
   "id": "1771d3e4",
   "metadata": {},
   "source": [
    "Por cierto con los ejemplos, ya te habras dado cuenta que no se inicializa las variables con un tipo de dato directo, sino que en python la variable adquiere el tipo de dato de su contenido, ya sea una lista, cadena, entero, float, long, boolean, objeto, y culquier tipo que pueda adquirir la variable.\n",
    "\n",
    "Por eso mimso hay que tenerle el debido cuidado a lo que se esta haciendo en python, porque si tu agarras esa variable y la inicilizas de nuevo, lo sobre escribira sin adevertnecia precia, tomando otro tipo de dato y otro valor si ese fue el caso.\n",
    "\n",
    "A continuacion como se realizan las tranforamciones de tipo de dato."
   ]
  },
  {
   "cell_type": "code",
   "execution_count": 66,
   "id": "5704fba2",
   "metadata": {},
   "outputs": [
    {
     "name": "stdout",
     "output_type": "stream",
     "text": [
      "<class 'str'>\n",
      "<class 'int'>\n",
      "<class 'bool'>\n",
      "Nicolas Molina\n",
      "30\n",
      "Nicolas12\n",
      "Mi edad es 12\n",
      "Mi edad es 12\n",
      "Escribe tu edad => 12\n",
      "<class 'str'>\n",
      "Tu edad en 10 años será 22\n"
     ]
    }
   ],
   "source": [
    "# Se podria decir que es una transformacion dinamica\n",
    "name = \"Nicolas\"\n",
    "print(type(name))\n",
    "name = 12\n",
    "print(type(name))\n",
    "name = True\n",
    "print(type(name))\n",
    "\n",
    "# Esto es parte de la flexbilidad que nos brinda python, pero hay que tener mucho cuidado.\n",
    "\n",
    "#Ten cuidado con el tipo de dato con el cual estas trabajo al ser 2 str, se concatenaran, pero si son 2 int se sumaran\n",
    "\n",
    "print(\"Nicolas\" + \" Molina\")\n",
    "print(10 + 20)\n",
    "# y si quitaras las comillas no lo tomaria como un str, sino como un int y te saldria error al querer concatenar un int\n",
    "print(\"Nicolas\" + \"12\")\n",
    "\n",
    "age = 12\n",
    "print(\"Mi edad es \" + str(age))\n",
    "print(f\"Mi edad es {age}\")\n",
    "\n",
    "#Se transforma la entra ya que los input, simrpre son de tipo  string, asiq ue si quieres utilizar cualquier operador numerico\n",
    "# debes de transformar el input a la variable numerica necesaria, en este casi int\n",
    "age = input('Escribe tu edad => ')\n",
    "print(type(age))\n",
    "age = int(age)\n",
    "age += 10\n",
    "print(f'Tu edad en 10 años será {age}')"
   ]
  },
  {
   "cell_type": "markdown",
   "id": "727f53bb",
   "metadata": {},
   "source": [
    "# Listas"
   ]
  },
  {
   "attachments": {},
   "cell_type": "markdown",
   "id": "63ec908e",
   "metadata": {},
   "source": [
    "Las listas son connjuntos ordenados de elementos que pueden ser números, cadenas, y muchos mas."
   ]
  },
  {
   "cell_type": "code",
   "execution_count": 16,
   "id": "44b57241",
   "metadata": {},
   "outputs": [
    {
     "data": {
      "text/plain": [
       "[1, 2, 3, 4]"
      ]
     },
     "execution_count": 16,
     "metadata": {},
     "output_type": "execute_result"
    }
   ],
   "source": [
    "[1,2,3,4] #Lista de numeros o de tipo int"
   ]
  },
  {
   "cell_type": "code",
   "execution_count": 17,
   "id": "2ccb01d8",
   "metadata": {},
   "outputs": [
    {
     "data": {
      "text/plain": [
       "['a', 'b', 'c', 'adios']"
      ]
     },
     "execution_count": 17,
     "metadata": {},
     "output_type": "execute_result"
    }
   ],
   "source": [
    "['a','b','c','adios']# lista de strig"
   ]
  },
  {
   "cell_type": "code",
   "execution_count": 53,
   "id": "8e52ef44",
   "metadata": {},
   "outputs": [
    {
     "data": {
      "text/plain": [
       "['a', 'b', 'c', 'd']"
      ]
     },
     "execution_count": 53,
     "metadata": {},
     "output_type": "execute_result"
    }
   ],
   "source": [
    "lista = ['a','b','c', 'd']\n",
    "lista"
   ]
  },
  {
   "cell_type": "code",
   "execution_count": 54,
   "id": "bdfef616",
   "metadata": {},
   "outputs": [],
   "source": [
    "lista.append('e')# Añadimos al final de lista la variable str e"
   ]
  },
  {
   "cell_type": "code",
   "execution_count": 55,
   "id": "9f8a5b01",
   "metadata": {},
   "outputs": [
    {
     "name": "stdout",
     "output_type": "stream",
     "text": [
      "['a', 'b', 'c', 'd', 'e']\n",
      "['a', 'b', 'c', 'd']\n"
     ]
    }
   ],
   "source": [
    "print(lista)\n",
    "lista.pop() #elimina la ultima variable de la lista\n",
    "print(lista)"
   ]
  },
  {
   "cell_type": "code",
   "execution_count": 56,
   "id": "8cf97ef4",
   "metadata": {},
   "outputs": [
    {
     "data": {
      "text/plain": [
       "'a'"
      ]
     },
     "execution_count": 56,
     "metadata": {},
     "output_type": "execute_result"
    }
   ],
   "source": [
    "lista[0] # Mostrar el primer valor de la lista"
   ]
  },
  {
   "cell_type": "code",
   "execution_count": 57,
   "id": "baa95690",
   "metadata": {},
   "outputs": [
    {
     "data": {
      "text/plain": [
       "'d'"
      ]
     },
     "execution_count": 57,
     "metadata": {},
     "output_type": "execute_result"
    }
   ],
   "source": [
    "lista[-1] #Con -1 se muestra el ultimo valor de la lista"
   ]
  },
  {
   "cell_type": "code",
   "execution_count": 61,
   "id": "1af814d8",
   "metadata": {},
   "outputs": [
    {
     "data": {
      "text/plain": [
       "['b', 'c']"
      ]
     },
     "execution_count": 61,
     "metadata": {},
     "output_type": "execute_result"
    }
   ],
   "source": [
    "lista[1:3] #Muestra desde la posicion 1 hasta la posicion 3 - 1, osea poscion 2 "
   ]
  },
  {
   "cell_type": "code",
   "execution_count": 10,
   "id": "eca49110",
   "metadata": {},
   "outputs": [],
   "source": [
    "#Una lista puede tener otras listas dentro\n",
    "\n",
    "listadoble = [1, 2, 3,['a', 'b', 'c']]"
   ]
  },
  {
   "cell_type": "code",
   "execution_count": 11,
   "id": "fd816284",
   "metadata": {},
   "outputs": [
    {
     "data": {
      "text/plain": [
       "[1, 2, 3, ['a', 'b', 'c']]"
      ]
     },
     "execution_count": 11,
     "metadata": {},
     "output_type": "execute_result"
    }
   ],
   "source": [
    "listadoble"
   ]
  },
  {
   "cell_type": "code",
   "execution_count": 28,
   "id": "1ae785be",
   "metadata": {},
   "outputs": [
    {
     "data": {
      "text/plain": [
       "1"
      ]
     },
     "execution_count": 28,
     "metadata": {},
     "output_type": "execute_result"
    }
   ],
   "source": [
    "listadoble[0]# Muestra primera posicon de la lista\n"
   ]
  },
  {
   "cell_type": "code",
   "execution_count": 29,
   "id": "b02e3176",
   "metadata": {},
   "outputs": [
    {
     "data": {
      "text/plain": [
       "2"
      ]
     },
     "execution_count": 29,
     "metadata": {},
     "output_type": "execute_result"
    }
   ],
   "source": [
    "listadoble[1]# 2do posicion de la lista"
   ]
  },
  {
   "cell_type": "code",
   "execution_count": 13,
   "id": "b454e360",
   "metadata": {},
   "outputs": [
    {
     "data": {
      "text/plain": [
       "['a', 'b', 'c']"
      ]
     },
     "execution_count": 13,
     "metadata": {},
     "output_type": "execute_result"
    }
   ],
   "source": [
    "listadoble[3]# Ultima posicon de la lista"
   ]
  },
  {
   "cell_type": "code",
   "execution_count": 14,
   "id": "4b593919",
   "metadata": {},
   "outputs": [
    {
     "data": {
      "text/plain": [
       "'a'"
      ]
     },
     "execution_count": 14,
     "metadata": {},
     "output_type": "execute_result"
    }
   ],
   "source": [
    "listadoble[3][0]#Muestra la ultima posicion de la lista, y el primer dato de la lista dentro de esta lista"
   ]
  },
  {
   "cell_type": "markdown",
   "id": "aa0be393",
   "metadata": {},
   "source": [
    "# Diccionario"
   ]
  },
  {
   "cell_type": "markdown",
   "id": "31458a8e",
   "metadata": {},
   "source": [
    "Es un conjunto de elementos \"clave:valor\" no ordenados."
   ]
  },
  {
   "cell_type": "code",
   "execution_count": 36,
   "id": "d6c2d428",
   "metadata": {},
   "outputs": [],
   "source": [
    "diccionario = {'clave1':'valor1', 'clave2':'valor2'}"
   ]
  },
  {
   "cell_type": "code",
   "execution_count": 37,
   "id": "ae494f69",
   "metadata": {},
   "outputs": [
    {
     "data": {
      "text/plain": [
       "'valor1'"
      ]
     },
     "execution_count": 37,
     "metadata": {},
     "output_type": "execute_result"
    }
   ],
   "source": [
    "\n",
    "#Muestra el valor de la clave1 que se encuentra dentro del diccionario\n",
    "\n",
    "diccionario['clave1']"
   ]
  },
  {
   "cell_type": "code",
   "execution_count": 65,
   "id": "f9db5777",
   "metadata": {},
   "outputs": [],
   "source": [
    "diccionario1 = {'nombre': 'Antonio', 'edad':30 }"
   ]
  },
  {
   "cell_type": "code",
   "execution_count": 40,
   "id": "a92202c8",
   "metadata": {},
   "outputs": [
    {
     "data": {
      "text/plain": [
       "'Antonio'"
      ]
     },
     "execution_count": 40,
     "metadata": {},
     "output_type": "execute_result"
    }
   ],
   "source": [
    "diccionario1['nombre'] # Muestra el valor de la clave: nomnbre"
   ]
  },
  {
   "cell_type": "code",
   "execution_count": 41,
   "id": "8880dd10",
   "metadata": {},
   "outputs": [
    {
     "data": {
      "text/plain": [
       "30"
      ]
     },
     "execution_count": 41,
     "metadata": {},
     "output_type": "execute_result"
    }
   ],
   "source": [
    "diccionario1['edad']# Muestra el valor de la clave: edad"
   ]
  },
  {
   "cell_type": "markdown",
   "id": "d6ac6664",
   "metadata": {},
   "source": [
    "# Boolean"
   ]
  },
  {
   "cell_type": "markdown",
   "id": "ef814b6f",
   "metadata": {},
   "source": [
    "Variables que pueden tomar 2 valorer: TRUE o FALSE, unicamente esos 2 valores."
   ]
  },
  {
   "cell_type": "code",
   "execution_count": 42,
   "id": "0f5bfcda",
   "metadata": {},
   "outputs": [
    {
     "data": {
      "text/plain": [
       "True"
      ]
     },
     "execution_count": 42,
     "metadata": {},
     "output_type": "execute_result"
    }
   ],
   "source": [
    "5 == 5"
   ]
  },
  {
   "cell_type": "code",
   "execution_count": 45,
   "id": "a81f364b",
   "metadata": {},
   "outputs": [
    {
     "data": {
      "text/plain": [
       "False"
      ]
     },
     "execution_count": 45,
     "metadata": {},
     "output_type": "execute_result"
    }
   ],
   "source": [
    "5 == 6"
   ]
  },
  {
   "cell_type": "code",
   "execution_count": 46,
   "id": "567e6da3",
   "metadata": {},
   "outputs": [],
   "source": [
    "resultado = (5 == 5)"
   ]
  },
  {
   "cell_type": "code",
   "execution_count": 47,
   "id": "9794631b",
   "metadata": {},
   "outputs": [
    {
     "data": {
      "text/plain": [
       "True"
      ]
     },
     "execution_count": 47,
     "metadata": {},
     "output_type": "execute_result"
    }
   ],
   "source": [
    "resultado"
   ]
  },
  {
   "cell_type": "code",
   "execution_count": 48,
   "id": "f2bea08c",
   "metadata": {},
   "outputs": [],
   "source": [
    "a = 5\n",
    "b = 6\n",
    "resultado = (a == b)"
   ]
  },
  {
   "cell_type": "code",
   "execution_count": 49,
   "id": "0f93a42a",
   "metadata": {},
   "outputs": [
    {
     "data": {
      "text/plain": [
       "False"
      ]
     },
     "execution_count": 49,
     "metadata": {},
     "output_type": "execute_result"
    }
   ],
   "source": [
    "resultado"
   ]
  },
  {
   "cell_type": "markdown",
   "id": "d670c3aa",
   "metadata": {},
   "source": [
    "# Tuplas "
   ]
  },
  {
   "cell_type": "markdown",
   "id": "de6f6388",
   "metadata": {},
   "source": [
    "Coleccion de elementos inalterables.\n",
    "Lo utlilizamos mayormente cuando no queremos que el usurio pueda modificar estos elementos."
   ]
  },
  {
   "cell_type": "code",
   "execution_count": 15,
   "id": "096cb625",
   "metadata": {},
   "outputs": [],
   "source": [
    "tupla = (1, 2, 3, 4)"
   ]
  },
  {
   "cell_type": "code",
   "execution_count": 17,
   "id": "c099b2ac",
   "metadata": {},
   "outputs": [
    {
     "name": "stdout",
     "output_type": "stream",
     "text": [
      "(1, 2, 3, 4)\n",
      "<class 'tuple'>\n"
     ]
    }
   ],
   "source": [
    "print(tupla)\n",
    "print(type(tupla))"
   ]
  },
  {
   "cell_type": "code",
   "execution_count": 52,
   "id": "e947d1f7",
   "metadata": {},
   "outputs": [
    {
     "ename": "TypeError",
     "evalue": "'tuple' object does not support item assignment",
     "output_type": "error",
     "traceback": [
      "\u001b[1;31m---------------------------------------------------------------------------\u001b[0m",
      "\u001b[1;31mTypeError\u001b[0m                                 Traceback (most recent call last)",
      "\u001b[1;32m~\\AppData\\Local\\Temp/ipykernel_7848/2733583355.py\u001b[0m in \u001b[0;36m<module>\u001b[1;34m\u001b[0m\n\u001b[1;32m----> 1\u001b[1;33m \u001b[0mtupla\u001b[0m\u001b[1;33m[\u001b[0m\u001b[1;36m0\u001b[0m\u001b[1;33m]\u001b[0m \u001b[1;33m=\u001b[0m \u001b[1;36m3\u001b[0m\u001b[1;33m\u001b[0m\u001b[1;33m\u001b[0m\u001b[0m\n\u001b[0m",
      "\u001b[1;31mTypeError\u001b[0m: 'tuple' object does not support item assignment"
     ]
    }
   ],
   "source": [
    "'''\n",
    "A las tuplas no se les puede añadir mas elementos, y tampoco se puede modificar\n",
    "Ej:\n",
    "'''\n",
    "tupla[0] = 3"
   ]
  },
  {
   "cell_type": "code",
   "execution_count": 53,
   "id": "f9885257",
   "metadata": {},
   "outputs": [
    {
     "data": {
      "text/plain": [
       "1"
      ]
     },
     "execution_count": 53,
     "metadata": {},
     "output_type": "execute_result"
    }
   ],
   "source": [
    "tupla[0]"
   ]
  },
  {
   "cell_type": "code",
   "execution_count": 54,
   "id": "0ded99d4",
   "metadata": {},
   "outputs": [
    {
     "data": {
      "text/plain": [
       "4"
      ]
     },
     "execution_count": 54,
     "metadata": {},
     "output_type": "execute_result"
    }
   ],
   "source": [
    "tupla[-1]"
   ]
  },
  {
   "cell_type": "markdown",
   "id": "17c99026",
   "metadata": {},
   "source": [
    "# Conjuntos"
   ]
  },
  {
   "cell_type": "markdown",
   "id": "3c67811f",
   "metadata": {},
   "source": [
    "Coleccion de elementos unicos, no se pueden repetir los elementos."
   ]
  },
  {
   "cell_type": "code",
   "execution_count": 18,
   "id": "972e503f",
   "metadata": {},
   "outputs": [],
   "source": [
    "conjunto = {1, 2, 3, 4}"
   ]
  },
  {
   "cell_type": "code",
   "execution_count": 19,
   "id": "451ee09e",
   "metadata": {},
   "outputs": [
    {
     "data": {
      "text/plain": [
       "{1, 2, 3, 4}"
      ]
     },
     "execution_count": 19,
     "metadata": {},
     "output_type": "execute_result"
    }
   ],
   "source": [
    "conjunto"
   ]
  },
  {
   "cell_type": "code",
   "execution_count": 57,
   "id": "4fd4ceda",
   "metadata": {},
   "outputs": [],
   "source": [
    "'''\n",
    "Ejemplo de como eleminrara los elementos duplicados y solo quedaran elementos unicos\n",
    "'''\n",
    "conjunto2 = {1,2,2,4,3,3,1,2,4}"
   ]
  },
  {
   "cell_type": "code",
   "execution_count": 58,
   "id": "bf2335df",
   "metadata": {},
   "outputs": [
    {
     "data": {
      "text/plain": [
       "{1, 2, 3, 4}"
      ]
     },
     "execution_count": 58,
     "metadata": {},
     "output_type": "execute_result"
    }
   ],
   "source": [
    "conjunto2"
   ]
  },
  {
   "cell_type": "code",
   "execution_count": 60,
   "id": "cbffefdf",
   "metadata": {},
   "outputs": [
    {
     "data": {
      "text/plain": [
       "{1, 2, 3, 4, 5, 6, 7}"
      ]
     },
     "execution_count": 60,
     "metadata": {},
     "output_type": "execute_result"
    }
   ],
   "source": [
    "'''\n",
    "Ejemplo de creacion de un conjunto a partir de una lista y como eliminara los duplicados de dicha lista\n",
    "'''\n",
    "lista = [1,2,2,3,1,2,4,5,4,6,6,7,1]\n",
    "conjunto = set(lista)\n",
    "conjunto"
   ]
  },
  {
   "cell_type": "markdown",
   "id": "44975497",
   "metadata": {},
   "source": [
    "# Operadores de comparacion"
   ]
  },
  {
   "cell_type": "markdown",
   "id": "29ee0682",
   "metadata": {},
   "source": [
    "Los oepradores de comparacion devolveran valores boolean, que solo pueden ser TRUE o FALSE, con sus respectivas reglas de los \n",
    "operadores de comparacion"
   ]
  },
  {
   "cell_type": "code",
   "execution_count": 61,
   "id": "caa1e0d7",
   "metadata": {},
   "outputs": [
    {
     "data": {
      "text/plain": [
       "True"
      ]
     },
     "execution_count": 61,
     "metadata": {},
     "output_type": "execute_result"
    }
   ],
   "source": [
    "5 == 5"
   ]
  },
  {
   "cell_type": "code",
   "execution_count": 62,
   "id": "e529a098",
   "metadata": {},
   "outputs": [
    {
     "data": {
      "text/plain": [
       "False"
      ]
     },
     "execution_count": 62,
     "metadata": {},
     "output_type": "execute_result"
    }
   ],
   "source": [
    "'''\n",
    "Para operador de compracion de igualdad es doble igual '=='.\n",
    "Ejemplod de operadores de comparcion igual '==', mayor que(>), mayor igual que(>=), menor que(<), menor igual que(<=) y\n",
    "\n",
    "diferente de (!=)\n",
    "'''\n",
    "valor1 = 5\n",
    "valor2 = 4\n",
    "valor1 == valor2"
   ]
  },
  {
   "cell_type": "code",
   "execution_count": 63,
   "id": "66961025",
   "metadata": {},
   "outputs": [
    {
     "data": {
      "text/plain": [
       "True"
      ]
     },
     "execution_count": 63,
     "metadata": {},
     "output_type": "execute_result"
    }
   ],
   "source": [
    "3 > 2"
   ]
  },
  {
   "cell_type": "code",
   "execution_count": 64,
   "id": "7efb2099",
   "metadata": {},
   "outputs": [
    {
     "data": {
      "text/plain": [
       "True"
      ]
     },
     "execution_count": 64,
     "metadata": {},
     "output_type": "execute_result"
    }
   ],
   "source": [
    "2 < 3"
   ]
  },
  {
   "cell_type": "code",
   "execution_count": 65,
   "id": "0d90f096",
   "metadata": {},
   "outputs": [
    {
     "data": {
      "text/plain": [
       "True"
      ]
     },
     "execution_count": 65,
     "metadata": {},
     "output_type": "execute_result"
    }
   ],
   "source": [
    "3 >= 3"
   ]
  },
  {
   "cell_type": "code",
   "execution_count": 66,
   "id": "faa432cb",
   "metadata": {},
   "outputs": [
    {
     "data": {
      "text/plain": [
       "True"
      ]
     },
     "execution_count": 66,
     "metadata": {},
     "output_type": "execute_result"
    }
   ],
   "source": [
    "2 <= 4"
   ]
  },
  {
   "cell_type": "code",
   "execution_count": 67,
   "id": "7f4a5d89",
   "metadata": {},
   "outputs": [
    {
     "data": {
      "text/plain": [
       "True"
      ]
     },
     "execution_count": 67,
     "metadata": {},
     "output_type": "execute_result"
    }
   ],
   "source": [
    "valor1 = 5\n",
    "valor2 = 4\n",
    "valor1 != valor2"
   ]
  },
  {
   "cell_type": "code",
   "execution_count": 71,
   "id": "bd1eda32",
   "metadata": {},
   "outputs": [
    {
     "data": {
      "text/plain": [
       "True"
      ]
     },
     "execution_count": 71,
     "metadata": {},
     "output_type": "execute_result"
    }
   ],
   "source": [
    "'''\n",
    "Ejemplos operador and, este solo es verdadero si ambas o todas son verdaderas\n",
    "'''\n",
    "(5 < 7) and (8 > 5)"
   ]
  },
  {
   "cell_type": "code",
   "execution_count": 69,
   "id": "106b76e5",
   "metadata": {},
   "outputs": [
    {
     "data": {
      "text/plain": [
       "True"
      ]
     },
     "execution_count": 69,
     "metadata": {},
     "output_type": "execute_result"
    }
   ],
   "source": [
    "'''\n",
    "Ejemplo de operador or, este solo es veradero cunado almenos uno de ellos es verdadero\n",
    "'''\n",
    "(5 < 7) or (8 < 5)"
   ]
  },
  {
   "cell_type": "code",
   "execution_count": 72,
   "id": "7f33f70a",
   "metadata": {},
   "outputs": [
    {
     "data": {
      "text/plain": [
       "True"
      ]
     },
     "execution_count": 72,
     "metadata": {},
     "output_type": "execute_result"
    }
   ],
   "source": [
    "(5 < 7) and (8 > 5) and (3 < 4)"
   ]
  },
  {
   "cell_type": "code",
   "execution_count": 73,
   "id": "e9ee9161",
   "metadata": {},
   "outputs": [
    {
     "data": {
      "text/plain": [
       "True"
      ]
     },
     "execution_count": 73,
     "metadata": {},
     "output_type": "execute_result"
    }
   ],
   "source": [
    "(5 < 7) and ( (8 > 5) or (3 > 4) )"
   ]
  },
  {
   "cell_type": "markdown",
   "id": "83f8f301",
   "metadata": {},
   "source": [
    "# Condicionales if/elif/else"
   ]
  },
  {
   "cell_type": "code",
   "execution_count": 75,
   "id": "084caf7b",
   "metadata": {},
   "outputs": [
    {
     "name": "stdout",
     "output_type": "stream",
     "text": [
      "a no es igual a b\n"
     ]
    }
   ],
   "source": [
    "a = 5\n",
    "b = 6\n",
    "if (a == b):\n",
    "    print(\"a es igual a b\")\n",
    "else:\n",
    "    print(\"a no es igual a b\")"
   ]
  },
  {
   "cell_type": "code",
   "execution_count": 77,
   "id": "623d2a64",
   "metadata": {},
   "outputs": [
    {
     "name": "stdout",
     "output_type": "stream",
     "text": [
      "a es mayor que b\n"
     ]
    }
   ],
   "source": [
    "a = 7\n",
    "b = 5\n",
    "if (a == b):\n",
    "    print(\"a es igual a b\")\n",
    "elif ( a > b ):\n",
    "    print(\"a es mayor que b\")\n",
    "elif ( a < b ):\n",
    "    print(\"a es menor que b\")\n",
    "else:\n",
    "    print(\"a no es igual a b\")"
   ]
  },
  {
   "cell_type": "markdown",
   "id": "240f91b0",
   "metadata": {},
   "source": [
    "# Bucle FOR"
   ]
  },
  {
   "cell_type": "markdown",
   "id": "b7161ed4",
   "metadata": {},
   "source": [
    "Itera un secuencia de elementos."
   ]
  },
  {
   "cell_type": "code",
   "execution_count": 80,
   "id": "4475f5a5",
   "metadata": {},
   "outputs": [
    {
     "name": "stdout",
     "output_type": "stream",
     "text": [
      "5\n",
      "10\n",
      "15\n",
      "20\n",
      "25\n",
      "30\n"
     ]
    }
   ],
   "source": [
    "'''\n",
    "Por cada elemento dentro de la lista imprimira cada uno de los elementos\n",
    "y los multiplicara por 5 cada uno de los elementos.\n",
    "'''\n",
    "lista = [1,2,3,4,5,6]\n",
    "for elemento in lista:\n",
    "    valor = elemento * 5\n",
    "    print(valor)"
   ]
  },
  {
   "cell_type": "markdown",
   "id": "8a848c69",
   "metadata": {},
   "source": [
    "# Bulce While"
   ]
  },
  {
   "cell_type": "markdown",
   "id": "92cd1314",
   "metadata": {},
   "source": [
    "Sirve para el comando, funcion o algoritmo que este dentro del bucle while se ejecute un numero determinado de veces o hasta que \n",
    "su condicion termine."
   ]
  },
  {
   "cell_type": "code",
   "execution_count": 81,
   "id": "66832236",
   "metadata": {},
   "outputs": [
    {
     "name": "stdout",
     "output_type": "stream",
     "text": [
      "1\n",
      "2\n",
      "3\n",
      "4\n"
     ]
    }
   ],
   "source": [
    "numero = 1\n",
    "while numero < 5:\n",
    "    print(numero)\n",
    "    numero = numero + 1"
   ]
  },
  {
   "cell_type": "code",
   "execution_count": 8,
   "id": "9d55778c",
   "metadata": {},
   "outputs": [
    {
     "name": "stdout",
     "output_type": "stream",
     "text": [
      "1\n",
      "2\n",
      "3\n",
      "4\n"
     ]
    }
   ],
   "source": [
    "'''\n",
    "prueba cambiando del numero de veces hasta que el estado sea falso o cambiando la condicional de while\n",
    "'''\n",
    "numero = 1\n",
    "estado = True\n",
    "while estado == True:\n",
    "    print(numero)\n",
    "    numero = numero + 1\n",
    "    if (numero >= 5):\n",
    "        estado = False"
   ]
  },
  {
   "cell_type": "markdown",
   "id": "b4dcda3d",
   "metadata": {},
   "source": [
    "# Funcion range() "
   ]
  },
  {
   "cell_type": "markdown",
   "id": "853788d4",
   "metadata": {},
   "source": [
    "Generador de numeros\n",
    "que genera un rango de numeros de un incio 0 y un numero fin -1"
   ]
  },
  {
   "cell_type": "code",
   "execution_count": 82,
   "id": "258321b0",
   "metadata": {},
   "outputs": [
    {
     "data": {
      "text/plain": [
       "range(0, 5)"
      ]
     },
     "execution_count": 82,
     "metadata": {},
     "output_type": "execute_result"
    }
   ],
   "source": [
    "range(0,5)"
   ]
  },
  {
   "cell_type": "code",
   "execution_count": 83,
   "id": "f526570a",
   "metadata": {},
   "outputs": [
    {
     "data": {
      "text/plain": [
       "[0, 1, 2, 3, 4]"
      ]
     },
     "execution_count": 83,
     "metadata": {},
     "output_type": "execute_result"
    }
   ],
   "source": [
    "list(range(0,5))#Con la funcion list, crea una lista desde el 0 hasta 5 - 1"
   ]
  },
  {
   "cell_type": "code",
   "execution_count": 84,
   "id": "dfdaaaab",
   "metadata": {},
   "outputs": [
    {
     "data": {
      "text/plain": [
       "[0, 1, 2, 3, 4, 5, 6]"
      ]
     },
     "execution_count": 84,
     "metadata": {},
     "output_type": "execute_result"
    }
   ],
   "source": [
    "list(range(0,7))# crear una lista desde 0 hasta 7 - 1"
   ]
  },
  {
   "cell_type": "code",
   "execution_count": 9,
   "id": "b66eb1bc",
   "metadata": {},
   "outputs": [
    {
     "name": "stdout",
     "output_type": "stream",
     "text": [
      "0\n",
      "1\n",
      "2\n",
      "3\n",
      "4\n",
      "5\n"
     ]
    }
   ],
   "source": [
    "'''\n",
    "En un bucle for, repite la accion hasta el limite del rango - 1, en este caso 5 veces\n",
    "'''\n",
    "for x in range(0,6):\n",
    "    print(x)"
   ]
  },
  {
   "cell_type": "markdown",
   "id": "a6bc5a7a",
   "metadata": {},
   "source": [
    "# Compresion de Lista "
   ]
  },
  {
   "cell_type": "markdown",
   "id": "dbf5cfe5",
   "metadata": {},
   "source": [
    "Como crear una lista a partir de otra"
   ]
  },
  {
   "cell_type": "code",
   "execution_count": 86,
   "id": "34aaa957",
   "metadata": {},
   "outputs": [],
   "source": [
    "#Por cada numero de la lista1 se añade dentro de la lista2\n",
    "lista1 = [1,2,3,4,5]\n",
    "lista2 = []\n",
    "for numero in lista1:\n",
    "    valor = numero *2\n",
    "    lista2.append(valor)"
   ]
  },
  {
   "cell_type": "code",
   "execution_count": 87,
   "id": "62f0aa7c",
   "metadata": {},
   "outputs": [
    {
     "data": {
      "text/plain": [
       "[2, 4, 6, 8, 10]"
      ]
     },
     "execution_count": 87,
     "metadata": {},
     "output_type": "execute_result"
    }
   ],
   "source": [
    "lista2"
   ]
  },
  {
   "cell_type": "code",
   "execution_count": 91,
   "id": "9a3901b4",
   "metadata": {},
   "outputs": [],
   "source": [
    "#Lo mismo a lo anterior pero de manera mas simplidicada\n",
    "lista1 = [1,2,3,4,5]\n",
    "lista3 = [numero * 3 for numero in lista1]"
   ]
  },
  {
   "cell_type": "code",
   "execution_count": 92,
   "id": "8110bb9a",
   "metadata": {},
   "outputs": [
    {
     "data": {
      "text/plain": [
       "[3, 6, 9, 12, 15]"
      ]
     },
     "execution_count": 92,
     "metadata": {},
     "output_type": "execute_result"
    }
   ],
   "source": [
    "lista3"
   ]
  },
  {
   "cell_type": "markdown",
   "id": "464fc48f",
   "metadata": {},
   "source": [
    "# Funciones"
   ]
  },
  {
   "attachments": {},
   "cell_type": "markdown",
   "id": "7f156848",
   "metadata": {},
   "source": [
    "Creacion de funciones en Python.\n",
    "Para este putno quiero aclarar muy bien 3 cosas:\n",
    "- 1 La sangria, por favor tener mucho cuidado con la snagria, python requiere mucho de nuestro orden propio\n",
    "    si no lo organizamos bien, sladran muchos errores de syntaxis, todo debe de estar ordenado y bien cuidado.\n",
    "- 2 Tener mucho cuidado con la flexbilidad de python, entender correctamente que esta sucediendo dentro de la\n",
    "    funcion, variable, snagrias, cambios de datos, que tipos de dato pide.\n",
    "- 3 Ser bastante claro de que se esta pidieno para la funcion, nada x, a, b, abd, cin, som, asdasfadg. Si uno \n",
    "    se pierde, es por eso, por no ser claro en como se esta estrucurando el codigo, y leer bien en caso de que sea el codigo de otra persona.\n",
    "Ordenados, antento y comprendiendo bien las nociones basicas de python. Todo sera bastante mas sencillo y facil de enternder a la larga"
   ]
  },
  {
   "cell_type": "code",
   "execution_count": 12,
   "id": "11004516",
   "metadata": {},
   "outputs": [],
   "source": [
    "'''\n",
    "Recuerda inicicar la funcion con \"shift + enter\" antes de utilizarla, o al invocarla saldra un error.\n",
    "Tambien que todas las funciones siguen una sangria, todo lo que este a un tab a la derecha o estta\n",
    "como parte de la funcion\n",
    "'''\n",
    "def funcion():\n",
    "    print(\"hola, Buenos dias\")# Por ejemplo, asiq es como debe de estar."
   ]
  },
  {
   "cell_type": "code",
   "execution_count": 13,
   "id": "a760539e",
   "metadata": {},
   "outputs": [
    {
     "name": "stdout",
     "output_type": "stream",
     "text": [
      "hola, Buenos dias\n"
     ]
    }
   ],
   "source": [
    "funcion()"
   ]
  },
  {
   "cell_type": "code",
   "execution_count": 98,
   "id": "05f72722",
   "metadata": {},
   "outputs": [],
   "source": [
    "def saludar(nombre):\n",
    "    print(\"Hola, buenos dias \" + nombre)"
   ]
  },
  {
   "cell_type": "code",
   "execution_count": 99,
   "id": "25943310",
   "metadata": {},
   "outputs": [
    {
     "name": "stdout",
     "output_type": "stream",
     "text": [
      "Hola, buenos dias Antonio\n"
     ]
    }
   ],
   "source": [
    "saludar(\"Antonio\")"
   ]
  },
  {
   "cell_type": "code",
   "execution_count": 14,
   "id": "b9eba248",
   "metadata": {},
   "outputs": [],
   "source": [
    "def sumar(numero1, numero2):\n",
    "    \"\"\"\n",
    "    Esto es un comentario de la funcion sumar\n",
    "    Esta funcion suma los dos numeros pasados como parametros\n",
    "    Ejemplo: sumar(2,3)\n",
    "    \"\"\"\n",
    "    resultado = numero1 + numero2\n",
    "    return resultado"
   ]
  },
  {
   "cell_type": "code",
   "execution_count": 103,
   "id": "2a8d97a3",
   "metadata": {},
   "outputs": [
    {
     "data": {
      "text/plain": [
       "5"
      ]
     },
     "execution_count": 103,
     "metadata": {},
     "output_type": "execute_result"
    }
   ],
   "source": [
    "sumar(2,3)"
   ]
  },
  {
   "cell_type": "code",
   "execution_count": 21,
   "id": "50e593a9",
   "metadata": {},
   "outputs": [
    {
     "name": "stdout",
     "output_type": "stream",
     "text": [
      "5 es menor\n"
     ]
    }
   ],
   "source": [
    "'''\n",
    "Si en caso agregaras una funcion for/ while o if entonces tambien deben de resperatrse\n",
    "sus debidas sangrias\n",
    "'''\n",
    "def menorNumero(numero1, numero2):\n",
    "    if numero1 > numero2: #Respetadno siempre las sangrias\n",
    "        print(f\"{numero2} es menor\")\n",
    "    else:\n",
    "        print(f\"{numero1} es menor\")\n",
    "\n",
    "menorNumero(5,7)\n"
   ]
  },
  {
   "cell_type": "code",
   "execution_count": 15,
   "id": "8ea20382",
   "metadata": {},
   "outputs": [
    {
     "data": {
      "text/plain": [
       "<function print>"
      ]
     },
     "execution_count": 15,
     "metadata": {},
     "output_type": "execute_result"
    }
   ],
   "source": [
    "\"\"\"\n",
    "Con las combinacioiones de teclas shift + tab te saldra el comentario que pusiste en tu funcion\n",
    "o en caso de funciones predefinidas de python, te saldra una breve descripcion de que hace cada funcion\n",
    "\n",
    "Recuerda inicializar las funciones que crees sino no saldra el comentario.\n",
    "\"\"\"\n",
    "\n",
    "sumar\n",
    "'''\n",
    "shit + tab\n",
    "'''\n",
    "print"
   ]
  },
  {
   "cell_type": "markdown",
   "id": "196b620c",
   "metadata": {},
   "source": [
    "# Funcion map()"
   ]
  },
  {
   "attachments": {},
   "cell_type": "markdown",
   "id": "abb571ba",
   "metadata": {},
   "source": [
    "Sirve para mapear una funcion sbore todos los elemontos de un objeto."
   ]
  },
  {
   "cell_type": "code",
   "execution_count": 22,
   "id": "0748a63e",
   "metadata": {},
   "outputs": [],
   "source": [
    "def multiplicar(numero):\n",
    "    return numero * 2\n"
   ]
  },
  {
   "cell_type": "code",
   "execution_count": 106,
   "id": "d9717c7a",
   "metadata": {},
   "outputs": [
    {
     "data": {
      "text/plain": [
       "10"
      ]
     },
     "execution_count": 106,
     "metadata": {},
     "output_type": "execute_result"
    }
   ],
   "source": [
    "multiplicar(5)"
   ]
  },
  {
   "cell_type": "code",
   "execution_count": 23,
   "id": "dff5b5e1",
   "metadata": {},
   "outputs": [],
   "source": [
    "#Por ejemplo sobre una lista\n",
    "lista = [1,2,3,4,5]\n",
    "lista2 = list( map(multiplicar,lista) )#Va multiplicar todos los elemntos de lista por 2"
   ]
  },
  {
   "cell_type": "code",
   "execution_count": 24,
   "id": "be5784c7",
   "metadata": {},
   "outputs": [
    {
     "data": {
      "text/plain": [
       "[2, 4, 6, 8, 10]"
      ]
     },
     "execution_count": 24,
     "metadata": {},
     "output_type": "execute_result"
    }
   ],
   "source": [
    "lista2"
   ]
  },
  {
   "cell_type": "markdown",
   "id": "90353cd9",
   "metadata": {},
   "source": [
    "# Funcion Lambda "
   ]
  },
  {
   "attachments": {},
   "cell_type": "markdown",
   "id": "04557110",
   "metadata": {},
   "source": [
    "Funcion anonima (sin nombre), sirve para simplificar codigo, pude tener cualquier numero de argumentos pero solo una expresion"
   ]
  },
  {
   "cell_type": "code",
   "execution_count": 109,
   "id": "10609559",
   "metadata": {},
   "outputs": [],
   "source": [
    "def multiplicar(numero):\n",
    "    return numero * 2"
   ]
  },
  {
   "cell_type": "code",
   "execution_count": 110,
   "id": "a4658214",
   "metadata": {},
   "outputs": [
    {
     "data": {
      "text/plain": [
       "12"
      ]
     },
     "execution_count": 110,
     "metadata": {},
     "output_type": "execute_result"
    }
   ],
   "source": [
    "multiplicar(6)"
   ]
  },
  {
   "cell_type": "code",
   "execution_count": 112,
   "id": "e287b5de",
   "metadata": {},
   "outputs": [
    {
     "data": {
      "text/plain": [
       "[2, 4, 6, 8, 10]"
      ]
     },
     "execution_count": 112,
     "metadata": {},
     "output_type": "execute_result"
    }
   ],
   "source": [
    "lista = [1,2,3,4,5]\n",
    "lista2 = list( map(multiplicar,lista))\n",
    "lista2"
   ]
  },
  {
   "cell_type": "code",
   "execution_count": 113,
   "id": "f2cbcd42",
   "metadata": {},
   "outputs": [
    {
     "data": {
      "text/plain": [
       "[2, 4, 6, 8, 10]"
      ]
     },
     "execution_count": 113,
     "metadata": {},
     "output_type": "execute_result"
    }
   ],
   "source": [
    "#En lugar de usar la funcion multiplicar, utlilizamos la funcion lamba para simplificar un poco el codigo\n",
    "lista = [1,2,3,4,5]\n",
    "lista2 = list( map(lambda numero: numero*2,lista) )\n",
    "lista2"
   ]
  },
  {
   "cell_type": "markdown",
   "id": "dbd98705",
   "metadata": {},
   "source": [
    "#  Filtros (Funcion Filter())"
   ]
  },
  {
   "attachments": {},
   "cell_type": "markdown",
   "id": "beac7aee",
   "metadata": {},
   "source": [
    "Sirve para filtrar o seleccionar los elemtos de un objeto."
   ]
  },
  {
   "cell_type": "code",
   "execution_count": 114,
   "id": "1b327a2a",
   "metadata": {},
   "outputs": [],
   "source": [
    "def pares(numero):\n",
    "    if(numero % 2 == 0):\n",
    "        return numero"
   ]
  },
  {
   "cell_type": "code",
   "execution_count": 115,
   "id": "a5102b96",
   "metadata": {},
   "outputs": [],
   "source": [
    "pares(5)"
   ]
  },
  {
   "cell_type": "code",
   "execution_count": 116,
   "id": "759347a0",
   "metadata": {},
   "outputs": [
    {
     "data": {
      "text/plain": [
       "4"
      ]
     },
     "execution_count": 116,
     "metadata": {},
     "output_type": "execute_result"
    }
   ],
   "source": [
    "pares(4)"
   ]
  },
  {
   "cell_type": "code",
   "execution_count": 119,
   "id": "9d5a816b",
   "metadata": {},
   "outputs": [
    {
     "data": {
      "text/plain": [
       "[2, 4, 6]"
      ]
     },
     "execution_count": 119,
     "metadata": {},
     "output_type": "execute_result"
    }
   ],
   "source": [
    "'''\n",
    "En este caso se esta filtrando los numeros pares de una lista\n",
    "'''\n",
    "lista1 = [1,2,3,4,5,6,7]\n",
    "lista_pares = list(filter(pares,lista1))\n",
    "lista_pares"
   ]
  },
  {
   "cell_type": "code",
   "execution_count": 16,
   "id": "f6e1eeaa",
   "metadata": {},
   "outputs": [
    {
     "data": {
      "text/plain": [
       "[2, 4, 6]"
      ]
     },
     "execution_count": 16,
     "metadata": {},
     "output_type": "execute_result"
    }
   ],
   "source": [
    "'''\n",
    "Lo mismo que lo anterior pero con la funcion lambda\n",
    "'''\n",
    "lista1 = [1,2,3,4,5,6,7]\n",
    "lista_pares_lambda = list(filter(lambda numero: numero%2 == 0,lista1))\n",
    "lista_pares_lambda"
   ]
  },
  {
   "cell_type": "markdown",
   "id": "69804f85",
   "metadata": {},
   "source": [
    "# Cadena de Caracteres"
   ]
  },
  {
   "attachments": {},
   "cell_type": "markdown",
   "id": "d5b752b4",
   "metadata": {},
   "source": [
    "## Funciones de cadenas de caracteres"
   ]
  },
  {
   "cell_type": "code",
   "execution_count": null,
   "id": "b02ef26a",
   "metadata": {},
   "outputs": [],
   "source": []
  },
  {
   "cell_type": "code",
   "execution_count": 19,
   "id": "9c53a2b8",
   "metadata": {},
   "outputs": [],
   "source": [
    "cadena = \"Hola, buenos dias, me llamo Antonio\""
   ]
  },
  {
   "cell_type": "code",
   "execution_count": 122,
   "id": "ffffbabd",
   "metadata": {},
   "outputs": [
    {
     "data": {
      "text/plain": [
       "'Hola, buenos dias, me llamo Antonio'"
      ]
     },
     "execution_count": 122,
     "metadata": {},
     "output_type": "execute_result"
    }
   ],
   "source": [
    "cadena"
   ]
  },
  {
   "cell_type": "code",
   "execution_count": 123,
   "id": "79f46275",
   "metadata": {},
   "outputs": [
    {
     "data": {
      "text/plain": [
       "'HOLA, BUENOS DIAS, ME LLAMO ANTONIO'"
      ]
     },
     "execution_count": 123,
     "metadata": {},
     "output_type": "execute_result"
    }
   ],
   "source": [
    "cadena.upper()"
   ]
  },
  {
   "cell_type": "code",
   "execution_count": 124,
   "id": "3f9230e5",
   "metadata": {},
   "outputs": [
    {
     "data": {
      "text/plain": [
       "'Hola, buenos dias, me llamo Antonio'"
      ]
     },
     "execution_count": 124,
     "metadata": {},
     "output_type": "execute_result"
    }
   ],
   "source": [
    "cadena"
   ]
  },
  {
   "cell_type": "code",
   "execution_count": 125,
   "id": "74851e26",
   "metadata": {},
   "outputs": [],
   "source": [
    "\n",
    "cadena_mayusculas = cadena.upper()#convierte todos los caracteres de la cadena en mayusculas"
   ]
  },
  {
   "cell_type": "code",
   "execution_count": 126,
   "id": "912b9979",
   "metadata": {},
   "outputs": [
    {
     "data": {
      "text/plain": [
       "'HOLA, BUENOS DIAS, ME LLAMO ANTONIO'"
      ]
     },
     "execution_count": 126,
     "metadata": {},
     "output_type": "execute_result"
    }
   ],
   "source": [
    "cadena_mayusculas"
   ]
  },
  {
   "attachments": {},
   "cell_type": "markdown",
   "id": "e48c6339",
   "metadata": {},
   "source": [
    "Al escrbir \"cadena.\" y presioanr la tecla tab, aparecera un recuadro con lista de las funciones que se le puede aplicar a la cadena"
   ]
  },
  {
   "cell_type": "code",
   "execution_count": 22,
   "id": "9147b449",
   "metadata": {},
   "outputs": [
    {
     "data": {
      "text/plain": [
       "'hola, buenos dias, me llamo antonio'"
      ]
     },
     "execution_count": 22,
     "metadata": {},
     "output_type": "execute_result"
    }
   ],
   "source": [
    "\n",
    "cadena.lower()#convierte todos los caracteres de la cadena en minusculas"
   ]
  },
  {
   "cell_type": "code",
   "execution_count": 23,
   "id": "0b12f827",
   "metadata": {},
   "outputs": [
    {
     "data": {
      "text/plain": [
       "['Hola,', 'buenos', 'dias,', 'me', 'llamo', 'Antonio']"
      ]
     },
     "execution_count": 23,
     "metadata": {},
     "output_type": "execute_result"
    }
   ],
   "source": [
    "'''\n",
    "Separa la cadena en una lista de cadenas depedniendo al valor que se le de, por ejemplo:\n",
    "cadena.split() los dividira por espacios vacios\n",
    "cadena.split(\",\") dividara la cadena por comas\n",
    "'''\n",
    "cadena.split()"
   ]
  },
  {
   "cell_type": "code",
   "execution_count": 24,
   "id": "04fb4afb",
   "metadata": {},
   "outputs": [
    {
     "data": {
      "text/plain": [
       "['Hola', ' buenos dias', ' me llamo Antonio']"
      ]
     },
     "execution_count": 24,
     "metadata": {},
     "output_type": "execute_result"
    }
   ],
   "source": [
    "\n",
    "cadena.split(\",\")"
   ]
  },
  {
   "cell_type": "code",
   "execution_count": 25,
   "id": "e56cb72f",
   "metadata": {},
   "outputs": [
    {
     "data": {
      "text/plain": [
       "'Hola'"
      ]
     },
     "execution_count": 25,
     "metadata": {},
     "output_type": "execute_result"
    }
   ],
   "source": [
    "'''\n",
    "Para accerdes a cada uno de los elementos de la lista\n",
    "'''\n",
    "cadena.split(\",\")[0]"
   ]
  },
  {
   "cell_type": "code",
   "execution_count": 28,
   "id": "4f7ba871",
   "metadata": {},
   "outputs": [
    {
     "data": {
      "text/plain": [
       "' me llamo Antonio'"
      ]
     },
     "execution_count": 28,
     "metadata": {},
     "output_type": "execute_result"
    }
   ],
   "source": [
    "'''\n",
    "Ultimo elemento de la cadena\n",
    "'''\n",
    "cadena.split(\",\")[-1]"
   ]
  }
 ],
 "metadata": {
  "kernelspec": {
   "display_name": "Python 3",
   "language": "python",
   "name": "python3"
  },
  "language_info": {
   "codemirror_mode": {
    "name": "ipython",
    "version": 3
   },
   "file_extension": ".py",
   "mimetype": "text/x-python",
   "name": "python",
   "nbconvert_exporter": "python",
   "pygments_lexer": "ipython3",
   "version": "3.10.4 (tags/v3.10.4:9d38120, Mar 23 2022, 23:13:41) [MSC v.1929 64 bit (AMD64)]"
  },
  "vscode": {
   "interpreter": {
    "hash": "f2ccb58c476f33ba3e3aee7ac07234ef6b8217ef24ad64d2a7d4fed1a57c1cd2"
   }
  }
 },
 "nbformat": 4,
 "nbformat_minor": 5
}
